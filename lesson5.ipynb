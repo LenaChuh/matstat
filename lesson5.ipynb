{
 "cells": [
  {
   "cell_type": "markdown",
   "id": "25f40bbb",
   "metadata": {},
   "source": [
    "Урок 5. Проверка статистических гипотез. P-значения. Доверительные интервалы. A/B-тестирование"
   ]
  },
  {
   "cell_type": "markdown",
   "id": "116dccb7",
   "metadata": {},
   "source": [
    "1. Известно, что генеральная совокупность распределена нормально со средним квадратическим отклонением, равным 16.\n",
    "Найти доверительный интервал для оценки математического ожидания a с надежностью 0.95,\n",
    "если выборочная средняя M = 80, а объем выборки n = 256."
   ]
  },
  {
   "cell_type": "code",
   "execution_count": 25,
   "id": "030a57f8",
   "metadata": {},
   "outputs": [
    {
     "data": {
      "text/plain": [
       "81.96"
      ]
     },
     "execution_count": 25,
     "metadata": {},
     "output_type": "execute_result"
    }
   ],
   "source": [
    "80+1.96*16/(256**0.5)"
   ]
  },
  {
   "cell_type": "code",
   "execution_count": 24,
   "id": "643be8ae",
   "metadata": {},
   "outputs": [
    {
     "data": {
      "text/plain": [
       "78.04"
      ]
     },
     "execution_count": 24,
     "metadata": {},
     "output_type": "execute_result"
    }
   ],
   "source": [
    "80-1.96*16/(256**0.5)"
   ]
  },
  {
   "cell_type": "markdown",
   "id": "731f713b",
   "metadata": {},
   "source": [
    "2. В результате 10 независимых измерений некоторой величины X, выполненных с одинаковой точностью,\n",
    "получены опытные данные:\n",
    "6.9, 6.1, 6.2, 6.8, 7.5, 6.3, 6.4, 6.9, 6.7, 6.1\n",
    "\n",
    "Предполагая, что результаты измерений подчинены нормальному закону распределения вероятностей,\n",
    "оценить истинное значение величины X при помощи доверительного интервала, покрывающего это\n",
    "значение с доверительной вероятностью 0,95.\n"
   ]
  },
  {
   "cell_type": "code",
   "execution_count": 27,
   "id": "f8bc3050",
   "metadata": {},
   "outputs": [],
   "source": [
    "x = [6.9, 6.1, 6.2, 6.8, 7.5, 6.3, 6.4, 6.9, 6.7, 6.1]"
   ]
  },
  {
   "cell_type": "code",
   "execution_count": 34,
   "id": "d3769fb7",
   "metadata": {},
   "outputs": [
    {
     "data": {
      "text/plain": [
       "6.590000000000001"
      ]
     },
     "execution_count": 34,
     "metadata": {},
     "output_type": "execute_result"
    }
   ],
   "source": [
    "import numpy as np\n",
    "\n",
    "np.array(x).mean()"
   ]
  },
  {
   "cell_type": "code",
   "execution_count": 41,
   "id": "86a2f8ef",
   "metadata": {},
   "outputs": [
    {
     "data": {
      "text/plain": [
       "0.4508017549014448"
      ]
     },
     "execution_count": 41,
     "metadata": {},
     "output_type": "execute_result"
    }
   ],
   "source": [
    "np.array(x).std(ddof=1)"
   ]
  },
  {
   "cell_type": "code",
   "execution_count": 42,
   "id": "ea35b86f",
   "metadata": {},
   "outputs": [
    {
     "data": {
      "text/plain": [
       "6.912461744087575"
      ]
     },
     "execution_count": 42,
     "metadata": {},
     "output_type": "execute_result"
    }
   ],
   "source": [
    "6.590000000000001+2.262*(0.4508017549014448/(len(x))**0.5)"
   ]
  },
  {
   "cell_type": "code",
   "execution_count": 43,
   "id": "cf6646de",
   "metadata": {},
   "outputs": [
    {
     "data": {
      "text/plain": [
       "6.267538255912426"
      ]
     },
     "execution_count": 43,
     "metadata": {},
     "output_type": "execute_result"
    }
   ],
   "source": [
    "6.590000000000001-2.262*(0.4508017549014448/(len(x))**0.5)"
   ]
  },
  {
   "cell_type": "code",
   "execution_count": null,
   "id": "6220f4d3",
   "metadata": {},
   "outputs": [],
   "source": [
    "Ответ: среднее значение 6.59 с 95% доверительным интервалом от 6.27 до 6.91."
   ]
  },
  {
   "cell_type": "markdown",
   "id": "6d78bd37",
   "metadata": {},
   "source": [
    "3,4 задачи решать через тест гипотез\n",
    "\n",
    "3. Утверждается, что шарики для подшипников, изготовленные автоматическим станком, имеют средний диаметр 17 мм.\n",
    "Используя односторонний критерий с α=0,05, проверить эту гипотезу, если в выборке из n=100 шариков средний диаметр\n",
    "оказался равным 17.5 мм, а дисперсия известна и равна 4 кв. мм.\n"
   ]
  },
  {
   "cell_type": "code",
   "execution_count": null,
   "id": "366bb7ea",
   "metadata": {},
   "outputs": [],
   "source": [
    "нулевая гипотеза: m0=m"
   ]
  },
  {
   "cell_type": "code",
   "execution_count": 38,
   "id": "f6679020",
   "metadata": {},
   "outputs": [
    {
     "data": {
      "text/plain": [
       "2.5"
      ]
     },
     "execution_count": 38,
     "metadata": {},
     "output_type": "execute_result"
    }
   ],
   "source": [
    "(17.5-17)*10/2"
   ]
  },
  {
   "cell_type": "code",
   "execution_count": null,
   "id": "83e6201a",
   "metadata": {},
   "outputs": [],
   "source": [
    "1.65-табличное значение z-критерия  для выборки 100 при a=0.05"
   ]
  },
  {
   "cell_type": "code",
   "execution_count": 40,
   "id": "7bbe2ce9",
   "metadata": {},
   "outputs": [
    {
     "data": {
      "text/plain": [
       "0.2"
      ]
     },
     "execution_count": 40,
     "metadata": {},
     "output_type": "execute_result"
    }
   ],
   "source": [
    "#стандартная ошибка\n",
    "\n",
    "4**0.5/10"
   ]
  },
  {
   "cell_type": "code",
   "execution_count": null,
   "id": "712a7c71",
   "metadata": {},
   "outputs": [],
   "source": [
    "В таблице у нас значение критерия 1/65, а расчетное 2.5, значит отличие среднего диаметра \n",
    "существенное."
   ]
  },
  {
   "cell_type": "markdown",
   "id": "26decbe0",
   "metadata": {},
   "source": [
    "4. Продавец утверждает, что средний вес пачки печенья составляет 200 г.\n",
    "Из партии извлечена выборка из 10 пачек. Вес каждой пачки составляет:\n",
    "\n",
    "202, 203, 199, 197, 195, 201, 200, 204, 194, 190.\n",
    "\n",
    "Известно, что их веса распределены нормально.\n",
    "Верно ли утверждение продавца, если учитывать, что доверительная вероятность равна 99%? (использовать двусторонний тест)"
   ]
  },
  {
   "cell_type": "code",
   "execution_count": 8,
   "id": "198cda4a",
   "metadata": {},
   "outputs": [],
   "source": [
    "x = np.array([202, 203, 199, 197, 195, 201, 200, 204, 194, 190])"
   ]
  },
  {
   "cell_type": "code",
   "execution_count": 9,
   "id": "c72cf5e4",
   "metadata": {},
   "outputs": [
    {
     "data": {
      "text/plain": [
       "198.5"
      ]
     },
     "execution_count": 9,
     "metadata": {},
     "output_type": "execute_result"
    }
   ],
   "source": [
    "x.mean()"
   ]
  },
  {
   "cell_type": "code",
   "execution_count": null,
   "id": "488a42a9",
   "metadata": {},
   "outputs": [],
   "source": [
    "нулевая гипотеза h0: m=m0\n",
    "гипотеза h1: m!=m0"
   ]
  },
  {
   "cell_type": "code",
   "execution_count": null,
   "id": "d1badc82",
   "metadata": {},
   "outputs": [],
   "source": [
    "табличный t-критерий стьюдента 0.005 при 9 степенях свободы будет 3.25 и -3.25."
   ]
  },
  {
   "cell_type": "code",
   "execution_count": 15,
   "id": "2a10b6d4",
   "metadata": {},
   "outputs": [
    {
     "data": {
      "text/plain": [
       "19.833333333333332"
      ]
     },
     "execution_count": 15,
     "metadata": {},
     "output_type": "execute_result"
    }
   ],
   "source": [
    "x.var(ddof=1)"
   ]
  },
  {
   "cell_type": "code",
   "execution_count": 16,
   "id": "398047c3",
   "metadata": {},
   "outputs": [
    {
     "data": {
      "text/plain": [
       "-1.0651074037450896"
      ]
     },
     "execution_count": 16,
     "metadata": {},
     "output_type": "execute_result"
    }
   ],
   "source": [
    "#расчетный t-критерий\n",
    "\n",
    "(x.mean()-200)*(10)**0.5/(x.var(ddof=1)**0.5)"
   ]
  },
  {
   "cell_type": "code",
   "execution_count": null,
   "id": "02d6a208",
   "metadata": {},
   "outputs": [],
   "source": [
    "Разность статистически незначима. Мы принимаем нулевую гипотезу."
   ]
  }
 ],
 "metadata": {
  "kernelspec": {
   "display_name": "Python 3",
   "language": "python",
   "name": "python3"
  },
  "language_info": {
   "codemirror_mode": {
    "name": "ipython",
    "version": 3
   },
   "file_extension": ".py",
   "mimetype": "text/x-python",
   "name": "python",
   "nbconvert_exporter": "python",
   "pygments_lexer": "ipython3",
   "version": "3.8.5"
  }
 },
 "nbformat": 4,
 "nbformat_minor": 5
}
