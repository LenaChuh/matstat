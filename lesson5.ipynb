{
 "cells": [
  {
   "cell_type": "markdown",
   "id": "25f40bbb",
   "metadata": {},
   "source": [
    "Урок 5. Проверка статистических гипотез. P-значения. Доверительные интервалы. A/B-тестирование"
   ]
  },
  {
   "cell_type": "markdown",
   "id": "116dccb7",
   "metadata": {},
   "source": [
    "1. Известно, что генеральная совокупность распределена нормально со средним квадратическим отклонением, равным 16.\n",
    "Найти доверительный интервал для оценки математического ожидания a с надежностью 0.95,\n",
    "если выборочная средняя M = 80, а объем выборки n = 256."
   ]
  },
  {
   "cell_type": "code",
   "execution_count": 1,
   "id": "030a57f8",
   "metadata": {},
   "outputs": [
    {
     "data": {
      "text/plain": [
       "81.96"
      ]
     },
     "execution_count": 1,
     "metadata": {},
     "output_type": "execute_result"
    }
   ],
   "source": [
    "80+1.96*(16/(256**0.5))"
   ]
  },
  {
   "cell_type": "code",
   "execution_count": 2,
   "id": "643be8ae",
   "metadata": {},
   "outputs": [
    {
     "data": {
      "text/plain": [
       "78.04"
      ]
     },
     "execution_count": 2,
     "metadata": {},
     "output_type": "execute_result"
    }
   ],
   "source": [
    "80-1.96*(16/(256**0.5))"
   ]
  },
  {
   "cell_type": "markdown",
   "id": "731f713b",
   "metadata": {},
   "source": [
    "2. В результате 10 независимых измерений некоторой величины X, выполненных с одинаковой точностью,\n",
    "получены опытные данные:\n",
    "6.9, 6.1, 6.2, 6.8, 7.5, 6.3, 6.4, 6.9, 6.7, 6.1\n",
    "\n",
    "Предполагая, что результаты измерений подчинены нормальному закону распределения вероятностей,\n",
    "оценить истинное значение величины X при помощи доверительного интервала, покрывающего это\n",
    "значение с доверительной вероятностью 0,95.\n"
   ]
  },
  {
   "cell_type": "code",
   "execution_count": 3,
   "id": "f8bc3050",
   "metadata": {},
   "outputs": [],
   "source": [
    "x = [6.9, 6.1, 6.2, 6.8, 7.5, 6.3, 6.4, 6.9, 6.7, 6.1]"
   ]
  },
  {
   "cell_type": "code",
   "execution_count": 4,
   "id": "d3769fb7",
   "metadata": {},
   "outputs": [
    {
     "data": {
      "text/plain": [
       "6.590000000000001"
      ]
     },
     "execution_count": 4,
     "metadata": {},
     "output_type": "execute_result"
    }
   ],
   "source": [
    "import numpy as np\n",
    "np.array(x).mean()"
   ]
  },
  {
   "cell_type": "code",
   "execution_count": 5,
   "id": "86a2f8ef",
   "metadata": {},
   "outputs": [
    {
     "data": {
      "text/plain": [
       "0.1829000000000001"
      ]
     },
     "execution_count": 5,
     "metadata": {},
     "output_type": "execute_result"
    }
   ],
   "source": [
    "np.array(x).var()"
   ]
  },
  {
   "cell_type": "code",
   "execution_count": 8,
   "id": "ea35b86f",
   "metadata": {},
   "outputs": [
    {
     "data": {
      "text/plain": [
       "6.720829688110934"
      ]
     },
     "execution_count": 8,
     "metadata": {},
     "output_type": "execute_result"
    }
   ],
   "source": [
    "6.590000000000001+2.262*(0.18290/(len(x))**0.5)"
   ]
  },
  {
   "cell_type": "code",
   "execution_count": 9,
   "id": "cf6646de",
   "metadata": {},
   "outputs": [
    {
     "data": {
      "text/plain": [
       "6.459170311889068"
      ]
     },
     "execution_count": 9,
     "metadata": {},
     "output_type": "execute_result"
    }
   ],
   "source": [
    "6.590000000000001-2.262*(0.18290/(len(x))**0.5)"
   ]
  },
  {
   "cell_type": "code",
   "execution_count": null,
   "id": "6220f4d3",
   "metadata": {},
   "outputs": [],
   "source": [
    "Ответ: среднее значение 6.59 с 95% доверительным интервалом от 6.72 до 6.45."
   ]
  },
  {
   "cell_type": "markdown",
   "id": "6d78bd37",
   "metadata": {},
   "source": [
    "3,4 задачи решать через тест гипотез\n",
    "\n",
    "3. Утверждается, что шарики для подшипников, изготовленные автоматическим станком, имеют средний диаметр 17 мм.\n",
    "Используя односторонний критерий с α=0,05, проверить эту гипотезу, если в выборке из n=100 шариков средний диаметр\n",
    "оказался равным 17.5 мм, а дисперсия известна и равна 4 кв. мм.\n"
   ]
  },
  {
   "cell_type": "code",
   "execution_count": 14,
   "id": "f6679020",
   "metadata": {},
   "outputs": [
    {
     "data": {
      "text/plain": [
       "1.25"
      ]
     },
     "execution_count": 14,
     "metadata": {},
     "output_type": "execute_result"
    }
   ],
   "source": [
    "(17.5-17)*10/4"
   ]
  },
  {
   "cell_type": "code",
   "execution_count": null,
   "id": "83e6201a",
   "metadata": {},
   "outputs": [],
   "source": [
    "1.66-табличное значение t-критерия Стюдента для выборки 100 при a=0.05"
   ]
  },
  {
   "cell_type": "code",
   "execution_count": null,
   "id": "48a423af",
   "metadata": {},
   "outputs": [],
   "source": [
    "Статистически значимого отличия в среднем диаметре  выборке не обнаружено."
   ]
  },
  {
   "cell_type": "markdown",
   "id": "26decbe0",
   "metadata": {},
   "source": [
    "4. Продавец утверждает, что средний вес пачки печенья составляет 200 г.\n",
    "Из партии извлечена выборка из 10 пачек. Вес каждой пачки составляет:\n",
    "\n",
    "202, 203, 199, 197, 195, 201, 200, 204, 194, 190.\n",
    "\n",
    "Известно, что их веса распределены нормально.\n",
    "Верно ли утверждение продавца, если учитывать, что доверительная вероятность равна 99%? (использовать двусторонний тест)"
   ]
  },
  {
   "cell_type": "code",
   "execution_count": 15,
   "id": "198cda4a",
   "metadata": {},
   "outputs": [],
   "source": [
    "x = np.array([202, 203, 199, 197, 195, 201, 200, 204, 194, 190])"
   ]
  },
  {
   "cell_type": "code",
   "execution_count": 16,
   "id": "c72cf5e4",
   "metadata": {},
   "outputs": [
    {
     "data": {
      "text/plain": [
       "198.5"
      ]
     },
     "execution_count": 16,
     "metadata": {},
     "output_type": "execute_result"
    }
   ],
   "source": [
    "x.mean()"
   ]
  },
  {
   "cell_type": "code",
   "execution_count": 19,
   "id": "398047c3",
   "metadata": {},
   "outputs": [
    {
     "data": {
      "text/plain": [
       "0.2657376185015445"
      ]
     },
     "execution_count": 19,
     "metadata": {},
     "output_type": "execute_result"
    }
   ],
   "source": [
    "#расчетный z-критерий\n",
    "\n",
    "(200-x.mean())/(x.var()/(10)**0.5)"
   ]
  },
  {
   "cell_type": "code",
   "execution_count": null,
   "id": "02d6a208",
   "metadata": {},
   "outputs": [],
   "source": [
    "# табличный критерий равен 2.25\n",
    "\n",
    "Разность статистически значима.Значит средний вес пачки не 200гр."
   ]
  }
 ],
 "metadata": {
  "kernelspec": {
   "display_name": "Python 3",
   "language": "python",
   "name": "python3"
  },
  "language_info": {
   "codemirror_mode": {
    "name": "ipython",
    "version": 3
   },
   "file_extension": ".py",
   "mimetype": "text/x-python",
   "name": "python",
   "nbconvert_exporter": "python",
   "pygments_lexer": "ipython3",
   "version": "3.8.5"
  }
 },
 "nbformat": 4,
 "nbformat_minor": 5
}
