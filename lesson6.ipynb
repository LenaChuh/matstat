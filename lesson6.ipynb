{
 "cells": [
  {
   "cell_type": "markdown",
   "id": "cb9a9bae",
   "metadata": {},
   "source": [
    "Задача 1\n",
    "\n",
    "Даны значения величины заработной платы заемщиков банка (zp) и значения их поведенческого кредитного скоринга (ks):\n",
    "zp = [35, 45, 190, 200, 40, 70, 54, 150, 120, 110],\n",
    "ks = [401, 574, 874, 919, 459, 739, 653, 902, 746, 832].\n",
    "\n",
    "Найдите ковариацию этих двух величин с помощью элементарных действий, а затем с помощью функции cov из numpy\n",
    "Полученные значения должны быть равны.\n",
    "\n",
    "Найдите коэффициент корреляции Пирсона с помощью ковариации и среднеквадратичных отклонений двух признаков,\n",
    "а затем с использованием функций из библиотек numpy и pandas.\n",
    "\n"
   ]
  },
  {
   "cell_type": "code",
   "execution_count": 11,
   "id": "22bc51ee",
   "metadata": {},
   "outputs": [],
   "source": [
    "zp = np.array([35, 45, 190, 200, 40, 70, 54, 150, 120, 110])\n",
    "ks = np.array([401, 574, 874, 919, 459, 739, 653, 902, 746, 832])"
   ]
  },
  {
   "cell_type": "code",
   "execution_count": 13,
   "id": "711d46c0",
   "metadata": {},
   "outputs": [],
   "source": [
    "import numpy as np\n",
    "\n",
    "#x - xcp\n",
    "raz_x = zp - zp.mean()"
   ]
  },
  {
   "cell_type": "code",
   "execution_count": 14,
   "id": "f5d8d800",
   "metadata": {},
   "outputs": [],
   "source": [
    "# y-ycp\n",
    "\n",
    "raz_y = ks - ks.mean()"
   ]
  },
  {
   "cell_type": "code",
   "execution_count": 15,
   "id": "27413178",
   "metadata": {},
   "outputs": [
    {
     "data": {
      "text/plain": [
       "186.93956242593487"
      ]
     },
     "execution_count": 15,
     "metadata": {},
     "output_type": "execute_result"
    }
   ],
   "source": [
    "(sum(raz_x**2))**0.5"
   ]
  },
  {
   "cell_type": "code",
   "execution_count": 16,
   "id": "60017bf4",
   "metadata": {},
   "outputs": [
    {
     "data": {
      "text/plain": [
       "551.986322294312"
      ]
     },
     "execution_count": 16,
     "metadata": {},
     "output_type": "execute_result"
    }
   ],
   "source": [
    "(sum(raz_y**2))**0.5"
   ]
  },
  {
   "cell_type": "code",
   "execution_count": 25,
   "id": "230802f8",
   "metadata": {},
   "outputs": [
    {
     "data": {
      "text/plain": [
       "0.8874900920739162"
      ]
     },
     "execution_count": 25,
     "metadata": {},
     "output_type": "execute_result"
    }
   ],
   "source": [
    "sum(raz_x*raz_y)/(sum(raz_x**2)**0.5*sum(raz_y**2)**0.5)"
   ]
  },
  {
   "cell_type": "code",
   "execution_count": 27,
   "id": "ef8c05b5",
   "metadata": {},
   "outputs": [
    {
     "data": {
      "text/plain": [
       "array([[1.        , 0.88749009],\n",
       "       [0.88749009, 1.        ]])"
      ]
     },
     "execution_count": 27,
     "metadata": {},
     "output_type": "execute_result"
    }
   ],
   "source": [
    "np.corrcoef(zp,ks)"
   ]
  },
  {
   "cell_type": "code",
   "execution_count": 28,
   "id": "75a8b909",
   "metadata": {},
   "outputs": [],
   "source": [
    "proizvedenie = zp*ks\n",
    "\n",
    "covariation = proizvedenie.mean() - zp.mean()*ks.mean()"
   ]
  },
  {
   "cell_type": "code",
   "execution_count": 31,
   "id": "b6e74d81",
   "metadata": {},
   "outputs": [
    {
     "data": {
      "text/plain": [
       "0.8874900920739158"
      ]
     },
     "execution_count": 31,
     "metadata": {},
     "output_type": "execute_result"
    }
   ],
   "source": [
    "# коэффициент корреляци Пирсона\n",
    "\n",
    "covariation / (np.std(zp)*np.std(ks))"
   ]
  },
  {
   "cell_type": "markdown",
   "id": "06e9b662",
   "metadata": {},
   "source": [
    "Задача 2\n",
    "\n",
    "Измерены значения IQ выборки студентов,\n",
    "обучающихся в местных технических вузах:\n",
    "\n",
    "131, 125, 115, 122, 131, 115, 107, 99, 125, 111.\n",
    "\n",
    "Известно, что в генеральной совокупности IQ распределен нормально.\n",
    "Найдите доверительный интервал для математического ожидания с надежностью 0.95."
   ]
  },
  {
   "cell_type": "code",
   "execution_count": 32,
   "id": "ad8c6d72",
   "metadata": {},
   "outputs": [],
   "source": [
    "z = np.array([131, 125, 115, 122, 131, 115, 107, 99, 125, 111])\n"
   ]
  },
  {
   "cell_type": "code",
   "execution_count": 33,
   "id": "1c948ee8",
   "metadata": {},
   "outputs": [
    {
     "data": {
      "text/plain": [
       "118.1"
      ]
     },
     "execution_count": 33,
     "metadata": {},
     "output_type": "execute_result"
    }
   ],
   "source": [
    "z.mean()"
   ]
  },
  {
   "cell_type": "markdown",
   "id": "7498447c",
   "metadata": {},
   "source": [
    "нулевая гипотеза h0: m=m0\n",
    "гипотеза h1: m!=m0\n",
    "    \n",
    "табличный t-критерий стьюдента 0.025 при 9 степенях свободы будет 2.262 и -2.262."
   ]
  },
  {
   "cell_type": "code",
   "execution_count": 44,
   "id": "30805c84",
   "metadata": {},
   "outputs": [
    {
     "data": {
      "text/plain": [
       "111.21111111111111"
      ]
     },
     "execution_count": 44,
     "metadata": {},
     "output_type": "execute_result"
    }
   ],
   "source": [
    "z.var(ddof=1)"
   ]
  },
  {
   "cell_type": "code",
   "execution_count": 45,
   "id": "670273bd",
   "metadata": {},
   "outputs": [],
   "source": [
    "s = z.var(ddof=1)**0.5"
   ]
  },
  {
   "cell_type": "code",
   "execution_count": 48,
   "id": "62da5b83",
   "metadata": {},
   "outputs": [
    {
     "data": {
      "text/plain": [
       "125.64339223691834"
      ]
     },
     "execution_count": 48,
     "metadata": {},
     "output_type": "execute_result"
    }
   ],
   "source": [
    "z.mean()+2.262*s/(10**0.5)"
   ]
  },
  {
   "cell_type": "code",
   "execution_count": 49,
   "id": "d42f6cfe",
   "metadata": {},
   "outputs": [
    {
     "data": {
      "text/plain": [
       "110.55660776308164"
      ]
     },
     "execution_count": 49,
     "metadata": {},
     "output_type": "execute_result"
    }
   ],
   "source": [
    "z.mean()-2.262*s/(10**0.5)"
   ]
  },
  {
   "cell_type": "code",
   "execution_count": 50,
   "id": "44d5ef8c",
   "metadata": {},
   "outputs": [
    {
     "data": {
      "text/plain": [
       "[110.557, 125.64]"
      ]
     },
     "execution_count": 50,
     "metadata": {},
     "output_type": "execute_result"
    }
   ],
   "source": [
    "[110.557,125.64]"
   ]
  },
  {
   "cell_type": "markdown",
   "id": "bdd8302e",
   "metadata": {},
   "source": [
    "Задача 3\n",
    "\n",
    "Известно, что рост футболистов в сборной распределен нормально\n",
    "с дисперсией генеральной совокупности, равной 25 кв.см. Объем выборки равен 27,\n",
    "среднее выборочное составляет 174.2. Найдите доверительный интервал для математического\n",
    "ожидания с надежностью 0.95.\n",
    "\n",
    "Выберите тему для проектной работы по курсу Теории вероятностей и математической статистики\n",
    "и напишите ее в комментарии к Практическому заданию."
   ]
  },
  {
   "cell_type": "code",
   "execution_count": null,
   "id": "4cf39974",
   "metadata": {},
   "outputs": [],
   "source": [
    "#Мы занем дисперсию ,потому используем z-критерий. Табличный он составляет 1.96."
   ]
  },
  {
   "cell_type": "code",
   "execution_count": 39,
   "id": "00167ef5",
   "metadata": {
    "scrolled": true
   },
   "outputs": [
    {
     "data": {
      "text/plain": [
       "176.08601087935276"
      ]
     },
     "execution_count": 39,
     "metadata": {},
     "output_type": "execute_result"
    }
   ],
   "source": [
    "174.2+1.96*25**0.5/(27**0.5)"
   ]
  },
  {
   "cell_type": "code",
   "execution_count": 41,
   "id": "8359a719",
   "metadata": {},
   "outputs": [
    {
     "data": {
      "text/plain": [
       "172.31398912064722"
      ]
     },
     "execution_count": 41,
     "metadata": {},
     "output_type": "execute_result"
    }
   ],
   "source": [
    "174.2-1.96*25**0.5/(27**0.5)"
   ]
  },
  {
   "cell_type": "code",
   "execution_count": null,
   "id": "32612eab",
   "metadata": {},
   "outputs": [],
   "source": []
  }
 ],
 "metadata": {
  "kernelspec": {
   "display_name": "Python 3",
   "language": "python",
   "name": "python3"
  },
  "language_info": {
   "codemirror_mode": {
    "name": "ipython",
    "version": 3
   },
   "file_extension": ".py",
   "mimetype": "text/x-python",
   "name": "python",
   "nbconvert_exporter": "python",
   "pygments_lexer": "ipython3",
   "version": "3.8.5"
  }
 },
 "nbformat": 4,
 "nbformat_minor": 5
}
