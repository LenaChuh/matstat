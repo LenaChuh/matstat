{
 "cells": [
  {
   "cell_type": "markdown",
   "id": "9714e72c",
   "metadata": {},
   "source": [
    "Задача 1\n",
    "\n",
    "Вероятность того, что стрелок попадет в мишень, выстрелив один раз, равна 0.8. \n",
    "Стрелок выстрелил 100 раз. Найдите вероятность того, что стрелок попадет в цель ровно 85 раз."
   ]
  },
  {
   "cell_type": "code",
   "execution_count": 4,
   "id": "3baa7723",
   "metadata": {},
   "outputs": [],
   "source": [
    "from math import factorial\n",
    "\n",
    "def combinations(n, k):\n",
    "    return int(factorial(n) / (factorial(k) * factorial(n - k)))"
   ]
  },
  {
   "cell_type": "code",
   "execution_count": 30,
   "id": "019e5b11",
   "metadata": {},
   "outputs": [
    {
     "data": {
      "text/plain": [
       "0.05"
      ]
     },
     "execution_count": 30,
     "metadata": {},
     "output_type": "execute_result"
    }
   ],
   "source": [
    "round(combinations(100, 85)*(0.8**85)*(0.2**15),2)"
   ]
  },
  {
   "cell_type": "markdown",
   "id": "3c5f53fb",
   "metadata": {},
   "source": [
    "Задача 2\n",
    "\n",
    "Вероятность того, что лампочка перегорит в течение первого дня эксплуатации, равна 0.0004. \n",
    "В жилом комплексе после ремонта в один день включили 5000 новых лампочек.\n",
    "Какова вероятность, что ни одна из них не перегорит в первый день? Какова вероятность, что перегорят ровно две?"
   ]
  },
  {
   "cell_type": "code",
   "execution_count": 12,
   "id": "dc4dc081",
   "metadata": {},
   "outputs": [],
   "source": [
    "from math import e"
   ]
  },
  {
   "cell_type": "code",
   "execution_count": 14,
   "id": "0a779881",
   "metadata": {},
   "outputs": [
    {
     "data": {
      "text/plain": [
       "0.9996000799893344"
      ]
     },
     "execution_count": 14,
     "metadata": {},
     "output_type": "execute_result"
    }
   ],
   "source": [
    "e**(-0.0004)"
   ]
  },
  {
   "cell_type": "code",
   "execution_count": 19,
   "id": "ffc11451",
   "metadata": {},
   "outputs": [
    {
     "data": {
      "text/plain": [
       "0.0"
      ]
     },
     "execution_count": 19,
     "metadata": {},
     "output_type": "execute_result"
    }
   ],
   "source": [
    "1/factorial(5000)*(e**-0.0004)"
   ]
  },
  {
   "cell_type": "code",
   "execution_count": 25,
   "id": "9d07c476",
   "metadata": {
    "scrolled": true
   },
   "outputs": [
    {
     "data": {
      "text/plain": [
       "0.0"
      ]
     },
     "execution_count": 25,
     "metadata": {},
     "output_type": "execute_result"
    }
   ],
   "source": [
    "(1/factorial(5000))*(e**-0.0004)"
   ]
  },
  {
   "cell_type": "markdown",
   "id": "785a28c2",
   "metadata": {},
   "source": [
    "Задача 3\n",
    "\n",
    "Монету подбросили 144 раза. Какова вероятность, что орел выпадет ровно 70 раз?"
   ]
  },
  {
   "cell_type": "code",
   "execution_count": 29,
   "id": "9a0509b6",
   "metadata": {},
   "outputs": [
    {
     "data": {
      "text/plain": [
       "0.06"
      ]
     },
     "execution_count": 29,
     "metadata": {},
     "output_type": "execute_result"
    }
   ],
   "source": [
    "round(combinations(144, 70)*(0.5**70)*(0.5**74),2)"
   ]
  },
  {
   "cell_type": "markdown",
   "id": "292ec580",
   "metadata": {},
   "source": [
    "Задача 4\n",
    "\n",
    "В первом ящике находится 10 мячей, из которых 7 - белые. Во втором ящике - 11 мячей, из которых 9 белых.\n",
    "Из каждого ящика вытаскивают случайным образом по два мяча. Какова вероятность того, что все мячи белые? \n",
    "Какова вероятность того, что ровно два мяча белые? Какова вероятность того, что хотя бы один мяч белый?"
   ]
  },
  {
   "cell_type": "code",
   "execution_count": 39,
   "id": "a0ce2bf9",
   "metadata": {},
   "outputs": [
    {
     "data": {
      "text/plain": [
       "0.4666666666666667"
      ]
     },
     "execution_count": 39,
     "metadata": {},
     "output_type": "execute_result"
    }
   ],
   "source": [
    "combinations(7, 2)/combinations(10, 2)"
   ]
  },
  {
   "cell_type": "code",
   "execution_count": 33,
   "id": "48fe9333",
   "metadata": {},
   "outputs": [
    {
     "data": {
      "text/plain": [
       "0.6545454545454545"
      ]
     },
     "execution_count": 33,
     "metadata": {},
     "output_type": "execute_result"
    }
   ],
   "source": [
    "combinations(9, 2)/combinations(11, 2)"
   ]
  },
  {
   "cell_type": "code",
   "execution_count": 40,
   "id": "79f96d57",
   "metadata": {},
   "outputs": [
    {
     "data": {
      "text/plain": [
       "0.3054545454545455"
      ]
     },
     "execution_count": 40,
     "metadata": {},
     "output_type": "execute_result"
    }
   ],
   "source": [
    "# вероятность того, что все мячи белые\n",
    "\n",
    "(combinations(7, 2)/combinations(10, 2))*(combinations(9, 2)/combinations(11, 2))"
   ]
  },
  {
   "cell_type": "code",
   "execution_count": 49,
   "id": "9a0e5b0c",
   "metadata": {},
   "outputs": [
    {
     "data": {
      "text/plain": [
       "120"
      ]
     },
     "execution_count": 49,
     "metadata": {},
     "output_type": "execute_result"
    }
   ],
   "source": [
    "# Благоприятные сочетания с 2мя белыми шарами\n",
    "\n",
    "combinations(7, 2)*combinations(3, 0) + combinations(9, 2)*combinations(2, 0) + combinations(7, 1)*combinations(9, 1)"
   ]
  },
  {
   "cell_type": "code",
   "execution_count": 43,
   "id": "5cf5aa63",
   "metadata": {},
   "outputs": [
    {
     "data": {
      "text/plain": [
       "2475"
      ]
     },
     "execution_count": 43,
     "metadata": {},
     "output_type": "execute_result"
    }
   ],
   "source": [
    "# все сочетания 4 шаров\n",
    "\n",
    "combinations(10, 2)*combinations(11, 2)"
   ]
  },
  {
   "cell_type": "code",
   "execution_count": 50,
   "id": "1e7600ba",
   "metadata": {},
   "outputs": [
    {
     "data": {
      "text/plain": [
       "0.048484848484848485"
      ]
     },
     "execution_count": 50,
     "metadata": {},
     "output_type": "execute_result"
    }
   ],
   "source": [
    "# Вероятность двух белых шаров\n",
    "\n",
    "120 / (combinations(10, 2)*combinations(11, 2))\n"
   ]
  },
  {
   "cell_type": "code",
   "execution_count": 51,
   "id": "a324c16d",
   "metadata": {},
   "outputs": [
    {
     "data": {
      "text/plain": [
       "39"
      ]
     },
     "execution_count": 51,
     "metadata": {},
     "output_type": "execute_result"
    }
   ],
   "source": [
    "# Благоприятные сочетания с 1м белым шаром\n",
    "\n",
    "combinations(7, 1)*combinations(3, 1) + combinations(9, 1)*combinations(2, 1)"
   ]
  },
  {
   "cell_type": "code",
   "execution_count": 52,
   "id": "8056816a",
   "metadata": {},
   "outputs": [
    {
     "data": {
      "text/plain": [
       "0.01575757575757576"
      ]
     },
     "execution_count": 52,
     "metadata": {},
     "output_type": "execute_result"
    }
   ],
   "source": [
    "# Вероятность одного белого шара\n",
    "\n",
    "39 / (combinations(10, 2)*combinations(11, 2))"
   ]
  }
 ],
 "metadata": {
  "kernelspec": {
   "display_name": "Python 3",
   "language": "python",
   "name": "python3"
  },
  "language_info": {
   "codemirror_mode": {
    "name": "ipython",
    "version": 3
   },
   "file_extension": ".py",
   "mimetype": "text/x-python",
   "name": "python",
   "nbconvert_exporter": "python",
   "pygments_lexer": "ipython3",
   "version": "3.8.5"
  }
 },
 "nbformat": 4,
 "nbformat_minor": 5
}
