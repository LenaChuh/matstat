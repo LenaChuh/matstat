{
 "cells": [
  {
   "cell_type": "markdown",
   "id": "03dc4754",
   "metadata": {},
   "source": [
    "# Урок 3. Описательная статистика. Качественные и количественные характеристики популяции. Графическое представление данных\n"
   ]
  },
  {
   "cell_type": "code",
   "execution_count": 3,
   "id": "97c564e1",
   "metadata": {},
   "outputs": [],
   "source": [
    "import numpy as np"
   ]
  },
  {
   "cell_type": "code",
   "execution_count": null,
   "id": "5b0664b6",
   "metadata": {},
   "outputs": [],
   "source": [
    "1.\n",
    "Даны значения зарплат из выборки выпускников: 100, 80, 75, 77, 89, 33, 45, 25, 65, 17, 30, 24, 57, 55, 70, 75, 65, 84, 90, 150. \n",
    "    Посчитать (желательно без использования статистических методов наподобие std, var, mean) среднее арифметическое,\n",
    "    среднее квадратичное отклонение,\n",
    "    смещенную и несмещенную оценки дисперсий для данной выборки."
   ]
  },
  {
   "cell_type": "code",
   "execution_count": 45,
   "id": "ea2aa1be",
   "metadata": {},
   "outputs": [],
   "source": [
    "salary = [100, 80, 75, 77, 89, 33, 45, 25, 65, 17, 30, 24, 57, 55, 70, 75, 65, 84, 90, 150]\n"
   ]
  },
  {
   "cell_type": "code",
   "execution_count": 46,
   "id": "37ada33b",
   "metadata": {},
   "outputs": [
    {
     "data": {
      "text/plain": [
       "65.3"
      ]
     },
     "execution_count": 46,
     "metadata": {},
     "output_type": "execute_result"
    }
   ],
   "source": [
    "arifmatical_mean = sum(salary)/len(salary)\n",
    "arifmatical_mean"
   ]
  },
  {
   "cell_type": "code",
   "execution_count": 47,
   "id": "db215362",
   "metadata": {},
   "outputs": [
    {
     "data": {
      "text/plain": [
       "30.823854398825596"
      ]
     },
     "execution_count": 47,
     "metadata": {},
     "output_type": "execute_result"
    }
   ],
   "source": [
    "np.sqrt(sum([(s - arifmatical_mean)**2 for s in salary])/len(salary))"
   ]
  },
  {
   "cell_type": "code",
   "execution_count": 50,
   "id": "052651d1",
   "metadata": {},
   "outputs": [
    {
     "data": {
      "text/plain": [
       "950.11"
      ]
     },
     "execution_count": 50,
     "metadata": {},
     "output_type": "execute_result"
    }
   ],
   "source": [
    "#проверка\n",
    "np.var(salary)"
   ]
  },
  {
   "cell_type": "code",
   "execution_count": 51,
   "id": "c3eba8e9",
   "metadata": {},
   "outputs": [
    {
     "data": {
      "text/plain": [
       "65.3"
      ]
     },
     "execution_count": 51,
     "metadata": {},
     "output_type": "execute_result"
    }
   ],
   "source": [
    "#проверка\n",
    "np.mean(salary)"
   ]
  },
  {
   "cell_type": "code",
   "execution_count": 52,
   "id": "8e383f52",
   "metadata": {},
   "outputs": [
    {
     "data": {
      "text/plain": [
       "30.823854398825596"
      ]
     },
     "execution_count": 52,
     "metadata": {},
     "output_type": "execute_result"
    }
   ],
   "source": [
    "#проверка\n",
    "np.std(salary)"
   ]
  },
  {
   "cell_type": "code",
   "execution_count": 55,
   "id": "e9c9ab23",
   "metadata": {},
   "outputs": [
    {
     "data": {
      "text/plain": [
       "31.624607341019814"
      ]
     },
     "execution_count": 55,
     "metadata": {},
     "output_type": "execute_result"
    }
   ],
   "source": [
    "#проверка\n",
    "\n",
    "np.std(salary, ddof=1)"
   ]
  },
  {
   "cell_type": "code",
   "execution_count": 57,
   "id": "a9813b68",
   "metadata": {},
   "outputs": [
    {
     "data": {
      "text/plain": [
       "30.823854398825596"
      ]
     },
     "execution_count": 57,
     "metadata": {},
     "output_type": "execute_result"
    }
   ],
   "source": [
    "#смещенная дисперсия\n",
    "\n",
    "(sum([(s - arifmatical_mean)**2 for s in salary])/len(salary))**0.5"
   ]
  },
  {
   "cell_type": "code",
   "execution_count": 58,
   "id": "50765bf0",
   "metadata": {},
   "outputs": [
    {
     "data": {
      "text/plain": [
       "31.624607341019814"
      ]
     },
     "execution_count": 58,
     "metadata": {},
     "output_type": "execute_result"
    }
   ],
   "source": [
    "#несмещенная дисперсия\n",
    "\n",
    "(sum([(s - arifmatical_mean)**2 for s in salary])/(len(salary)-1))**0.5"
   ]
  },
  {
   "cell_type": "code",
   "execution_count": null,
   "id": "33f20ecc",
   "metadata": {},
   "outputs": [],
   "source": [
    "2.\n",
    "В первом ящике находится 8 мячей, из которых 5 - белые. Во втором ящике - 12 мячей, из которых 5 белых.\n",
    "    Из первого ящика вытаскивают случайным образом два мяча, из второго - 4. \n",
    "    Какова вероятность того, что 3 мяча белые?"
   ]
  },
  {
   "cell_type": "code",
   "execution_count": 4,
   "id": "cecfcfc9",
   "metadata": {},
   "outputs": [],
   "source": [
    "from math import factorial\n",
    "\n",
    "def combinations(n, k):\n",
    "    return int(factorial(n) / (factorial(k) * factorial(n - k)))"
   ]
  },
  {
   "cell_type": "code",
   "execution_count": 42,
   "id": "8d7b4887",
   "metadata": {},
   "outputs": [],
   "source": [
    "# первый ящик 2 белых, второй ящик 1 белый\n",
    "\n",
    "p1 = combinations(5, 2)*combinations(3,0)/combinations(8, 2) * combinations(5, 1)*combinations(7,3)/combinations(12, 4)"
   ]
  },
  {
   "cell_type": "code",
   "execution_count": 43,
   "id": "92be6c23",
   "metadata": {},
   "outputs": [
    {
     "data": {
      "text/plain": [
       "0.12626262626262627"
      ]
     },
     "execution_count": 43,
     "metadata": {},
     "output_type": "execute_result"
    }
   ],
   "source": [
    "p1"
   ]
  },
  {
   "cell_type": "code",
   "execution_count": 35,
   "id": "d1994970",
   "metadata": {},
   "outputs": [],
   "source": [
    "# первый ящик 1 белый, второй ящик 2 белых\n",
    "\n",
    "p2 = combinations(5, 1)*combinations(3,1)/combinations(8, 2) * combinations(5, 2)*combinations(7,2)/combinations(12, 4)"
   ]
  },
  {
   "cell_type": "code",
   "execution_count": 36,
   "id": "1837806e",
   "metadata": {},
   "outputs": [
    {
     "data": {
      "text/plain": [
       "0.22727272727272724"
      ]
     },
     "execution_count": 36,
     "metadata": {},
     "output_type": "execute_result"
    }
   ],
   "source": [
    "p2"
   ]
  },
  {
   "cell_type": "code",
   "execution_count": 32,
   "id": "6f1a2633",
   "metadata": {},
   "outputs": [],
   "source": [
    "# первый ящик 0 белых, второй ящик 3 белых\n",
    "\n",
    "p3 = combinations(5, 0)*combinations(3,2)/combinations(8, 2) * combinations(5, 3)*combinations(7,1)/combinations(12,4)"
   ]
  },
  {
   "cell_type": "code",
   "execution_count": 34,
   "id": "bb1e5511",
   "metadata": {},
   "outputs": [
    {
     "data": {
      "text/plain": [
       "0.015151515151515152"
      ]
     },
     "execution_count": 34,
     "metadata": {},
     "output_type": "execute_result"
    }
   ],
   "source": [
    "p3"
   ]
  },
  {
   "cell_type": "code",
   "execution_count": 44,
   "id": "8bcd031b",
   "metadata": {},
   "outputs": [
    {
     "data": {
      "text/plain": [
       "0.3686868686868686"
      ]
     },
     "execution_count": 44,
     "metadata": {},
     "output_type": "execute_result"
    }
   ],
   "source": [
    "p1+p2+p3"
   ]
  },
  {
   "cell_type": "code",
   "execution_count": null,
   "id": "bf5f2e73",
   "metadata": {},
   "outputs": [],
   "source": [
    "3.\n",
    "\n",
    "На соревновании по биатлону один из трех спортсменов стреляет и попадает в мишень.\n",
    "    Вероятность попадания для первого спортсмена равна 0.9, для второго — 0.8, для третьего — 0.6. \n",
    "    Найти вероятность того, что выстрел произведен: \n",
    "        a) первым спортсменом\n",
    "        б) вторым спортсменом \n",
    "        в) третьим спортсменом."
   ]
  },
  {
   "cell_type": "code",
   "execution_count": 4,
   "id": "ecf4f4aa",
   "metadata": {},
   "outputs": [
    {
     "data": {
      "text/plain": [
       "0.39"
      ]
     },
     "execution_count": 4,
     "metadata": {},
     "output_type": "execute_result"
    }
   ],
   "source": [
    "# a)\n",
    "\n",
    "round(((1/3)*0.9)/(1/3*(0.9+0.8+0.6)),2)"
   ]
  },
  {
   "cell_type": "code",
   "execution_count": 5,
   "id": "2af0429c",
   "metadata": {},
   "outputs": [
    {
     "data": {
      "text/plain": [
       "0.35"
      ]
     },
     "execution_count": 5,
     "metadata": {},
     "output_type": "execute_result"
    }
   ],
   "source": [
    "# б)\n",
    "\n",
    "round(((1/3)*0.8)/(1/3*(0.9+0.8+0.6)),2)"
   ]
  },
  {
   "cell_type": "code",
   "execution_count": 6,
   "id": "0072abb7",
   "metadata": {},
   "outputs": [
    {
     "data": {
      "text/plain": [
       "0.26"
      ]
     },
     "execution_count": 6,
     "metadata": {},
     "output_type": "execute_result"
    }
   ],
   "source": [
    "# в)\n",
    "\n",
    "round(((1/3)*0.6)/(1/3*(0.9+0.8+0.6)),2)"
   ]
  },
  {
   "cell_type": "code",
   "execution_count": null,
   "id": "435c4add",
   "metadata": {},
   "outputs": [],
   "source": [
    "4.\n",
    "\n",
    "В университет на факультеты A и B поступило равное количество студентов, а на факультет C \n",
    "    студентов поступило столько же, сколько на A и B вместе. Вероятность того, что студент факультета A \n",
    "    сдаст первую сессию, равна 0.8. Для студента факультета B эта вероятность равна 0.7, а для студента факультета C - 0.9.\n",
    "    Студент сдал первую сессию.\n",
    "    Какова вероятность, что он учится: a). на факультете A б). на факультете B в). на факультете C?"
   ]
  },
  {
   "cell_type": "code",
   "execution_count": 13,
   "id": "a6ba600a",
   "metadata": {},
   "outputs": [
    {
     "data": {
      "text/plain": [
       "0.825"
      ]
     },
     "execution_count": 13,
     "metadata": {},
     "output_type": "execute_result"
    }
   ],
   "source": [
    "#полная вероятность\n",
    "\n",
    "0.25*0.8+0.25*0.7+0.5*0.9"
   ]
  },
  {
   "cell_type": "code",
   "execution_count": 18,
   "id": "61ddc074",
   "metadata": {},
   "outputs": [
    {
     "data": {
      "text/plain": [
       "0.24242424242424246"
      ]
     },
     "execution_count": 18,
     "metadata": {},
     "output_type": "execute_result"
    }
   ],
   "source": [
    "# a)\n",
    "\n",
    "((1/4)*0.8)/0.825"
   ]
  },
  {
   "cell_type": "code",
   "execution_count": 22,
   "id": "4e1ae5a5",
   "metadata": {},
   "outputs": [
    {
     "data": {
      "text/plain": [
       "0.21212121212121213"
      ]
     },
     "execution_count": 22,
     "metadata": {},
     "output_type": "execute_result"
    }
   ],
   "source": [
    "# б)\n",
    "\n",
    "((1/4)*0.7)/0.825"
   ]
  },
  {
   "cell_type": "code",
   "execution_count": 21,
   "id": "834fe0ff",
   "metadata": {},
   "outputs": [
    {
     "data": {
      "text/plain": [
       "0.5454545454545455"
      ]
     },
     "execution_count": 21,
     "metadata": {},
     "output_type": "execute_result"
    }
   ],
   "source": [
    "# в)\n",
    "\n",
    "((1/2)*0.9)/0.825"
   ]
  },
  {
   "cell_type": "code",
   "execution_count": null,
   "id": "cf62218c",
   "metadata": {},
   "outputs": [],
   "source": [
    "5.\n",
    "\n",
    "Устройство состоит из трех деталей. \n",
    "\n",
    "Для первой детали вероятность выйти из строя в первый месяц равна 0.1,\n",
    "для второй - 0.2, для третьей - 0.25.\n",
    "\n",
    "Какова вероятность того, что в первый месяц выйдут из строя: \n",
    "    \n",
    "    а). все детали\n",
    "    б). только две детали \n",
    "    в). хотя бы одна деталь \n",
    "    г). от одной до двух деталей?"
   ]
  },
  {
   "cell_type": "code",
   "execution_count": 16,
   "id": "dc5eafd3",
   "metadata": {},
   "outputs": [
    {
     "data": {
      "text/plain": [
       "0.005000000000000001"
      ]
     },
     "execution_count": 16,
     "metadata": {},
     "output_type": "execute_result"
    }
   ],
   "source": [
    "# a)\n",
    "\n",
    "p = 0.1*0.2*0.25 \n",
    "p"
   ]
  },
  {
   "cell_type": "code",
   "execution_count": 17,
   "id": "a0a8eb49",
   "metadata": {},
   "outputs": [
    {
     "data": {
      "text/plain": [
       "0.08000000000000002"
      ]
     },
     "execution_count": 17,
     "metadata": {},
     "output_type": "execute_result"
    }
   ],
   "source": [
    "# б)\n",
    "\n",
    "p_2detal = 0.1*(1-0.2)*0.25 + 0.1*0.2*(1-0.25) + (1-0.1)*0.2*0.25\n",
    "p_2detal "
   ]
  },
  {
   "cell_type": "code",
   "execution_count": 26,
   "id": "dd9e8894",
   "metadata": {},
   "outputs": [
    {
     "data": {
      "text/plain": [
       "0.45999999999999996"
      ]
     },
     "execution_count": 26,
     "metadata": {},
     "output_type": "execute_result"
    }
   ],
   "source": [
    "# в)\n",
    "\n",
    "p_1detal = 0.1*0.2*(1-0.25) + 0.1*(1-0.2)*0.25 + (1-0.1)*0.2*0.25\n",
    "\n",
    "#q1*q2*q3-вероятность, что ничего не сломается\n",
    "\n",
    "1-(0.9*0.8*0.75)"
   ]
  },
  {
   "cell_type": "code",
   "execution_count": 27,
   "id": "956adcfe",
   "metadata": {},
   "outputs": [
    {
     "data": {
      "text/plain": [
       "0.45499999999999996"
      ]
     },
     "execution_count": 27,
     "metadata": {},
     "output_type": "execute_result"
    }
   ],
   "source": [
    "# г)\n",
    "p_1detal = 0.1*0.2*(1-0.25)+0.1*(1-0.2)*0.25+(1-0.1)*0.2*0.25\n",
    "p_2detal = 0.1*(1-0.2)*0.3+0.1*0.2*(1-0.3)+(1-0.1)*0.2*0.25\n",
    "\n",
    "p_1detal+p_2detal\n",
    "1 - (0.1*0.2*0.25) - (0.9*0.8*0.75)"
   ]
  }
 ],
 "metadata": {
  "kernelspec": {
   "display_name": "Python 3",
   "language": "python",
   "name": "python3"
  },
  "language_info": {
   "codemirror_mode": {
    "name": "ipython",
    "version": 3
   },
   "file_extension": ".py",
   "mimetype": "text/x-python",
   "name": "python",
   "nbconvert_exporter": "python",
   "pygments_lexer": "ipython3",
   "version": "3.8.5"
  }
 },
 "nbformat": 4,
 "nbformat_minor": 5
}
