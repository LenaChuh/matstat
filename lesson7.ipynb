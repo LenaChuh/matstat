{
 "cells": [
  {
   "cell_type": "markdown",
   "id": "5a1d767b",
   "metadata": {},
   "source": [
    "1.  Даны значения величины заработной платы заемщиков банка (zp) и значения их поведенческого кредитного скоринга (ks):\n",
    "    zp = [35, 45, 190, 200, 40, 70, 54, 150, 120, 110], \n",
    "    ks = [401, 574, 874, 919, 459, 739, 653, 902, 746, 832].\n",
    "    \n",
    "    Используя математические операции, посчитать коэффициенты линейной регрессии, приняв за X заработную плату\n",
    "    (то есть, zp - признак), а за y - значения скорингового балла (то есть, ks - целевая переменная). \n",
    "    Произвести расчет как с использованием intercept, так и без."
   ]
  },
  {
   "cell_type": "code",
   "execution_count": 2,
   "id": "29c5b801",
   "metadata": {},
   "outputs": [],
   "source": [
    "import numpy as np"
   ]
  },
  {
   "cell_type": "code",
   "execution_count": 3,
   "id": "166bb70e",
   "metadata": {},
   "outputs": [],
   "source": [
    "zp = np.array([35, 45, 190, 200, 40, 70, 54, 150, 120, 110])\n",
    "ks = np.array([401, 574, 874, 919, 459, 739, 653, 902, 746, 832])"
   ]
  },
  {
   "cell_type": "code",
   "execution_count": 4,
   "id": "bbf8c5fd",
   "metadata": {},
   "outputs": [],
   "source": [
    "b = (np.mean(zp*ks)-np.mean(zp)*np.mean(ks))/(np.mean(zp**2)-np.mean(zp)**2)"
   ]
  },
  {
   "cell_type": "code",
   "execution_count": 5,
   "id": "7e7ba9d3",
   "metadata": {},
   "outputs": [
    {
     "data": {
      "text/plain": [
       "2.620538882402765"
      ]
     },
     "execution_count": 5,
     "metadata": {},
     "output_type": "execute_result"
    }
   ],
   "source": [
    "b"
   ]
  },
  {
   "cell_type": "code",
   "execution_count": 6,
   "id": "3095d2d8",
   "metadata": {},
   "outputs": [],
   "source": [
    "#2d way\n",
    "\n",
    "n=10"
   ]
  },
  {
   "cell_type": "code",
   "execution_count": 7,
   "id": "85742da4",
   "metadata": {},
   "outputs": [],
   "source": [
    "b1 = (n*(np.sum(zp*ks)) - (np.sum(zp)*np.sum(ks)))/(n*(np.sum(zp**2))-((np.sum(zp)**2)))"
   ]
  },
  {
   "cell_type": "code",
   "execution_count": 8,
   "id": "d307440f",
   "metadata": {},
   "outputs": [
    {
     "data": {
      "text/plain": [
       "2.6205388824027653"
      ]
     },
     "execution_count": 8,
     "metadata": {},
     "output_type": "execute_result"
    }
   ],
   "source": [
    "b1"
   ]
  },
  {
   "cell_type": "code",
   "execution_count": 9,
   "id": "cded791b",
   "metadata": {},
   "outputs": [],
   "source": [
    "a = np.mean(ks)-b*np.mean(zp)"
   ]
  },
  {
   "cell_type": "code",
   "execution_count": 10,
   "id": "ba2cbe46",
   "metadata": {},
   "outputs": [
    {
     "data": {
      "text/plain": [
       "444.1773573243596"
      ]
     },
     "execution_count": 10,
     "metadata": {},
     "output_type": "execute_result"
    }
   ],
   "source": [
    "a"
   ]
  },
  {
   "cell_type": "code",
   "execution_count": 11,
   "id": "b9608531",
   "metadata": {},
   "outputs": [],
   "source": [
    "y_hat = 444.18 + 2.62*zp"
   ]
  },
  {
   "cell_type": "code",
   "execution_count": 12,
   "id": "0e518028",
   "metadata": {},
   "outputs": [
    {
     "data": {
      "text/plain": [
       "array([535.88, 562.08, 941.98, 968.18, 548.98, 627.58, 585.66, 837.18,\n",
       "       758.58, 732.38])"
      ]
     },
     "execution_count": 12,
     "metadata": {},
     "output_type": "execute_result"
    }
   ],
   "source": [
    "y_hat"
   ]
  },
  {
   "cell_type": "code",
   "execution_count": 13,
   "id": "550cd07a",
   "metadata": {},
   "outputs": [
    {
     "data": {
      "image/png": "[encoded data removed]",
      "text/plain": [
       "<Figure size 432x288 with 1 Axes>"
      ]
     },
     "metadata": {
      "needs_background": "light"
     },
     "output_type": "display_data"
    }
   ],
   "source": [
    "import matplotlib.pyplot as plt\n",
    "%matplotlib inline\n",
    "plt.scatter(zp, ks)\n",
    "plt.plot(zp, 444.18 + 2.62*zp)\n",
    "plt.show()"
   ]
  },
  {
   "cell_type": "code",
   "execution_count": 14,
   "id": "173d64e1",
   "metadata": {},
   "outputs": [],
   "source": [
    "#функция потерь\n",
    "\n",
    "mse = ((ks-y_hat)**2).sum()/n"
   ]
  },
  {
   "cell_type": "code",
   "execution_count": 15,
   "id": "d639fc4b",
   "metadata": {},
   "outputs": [
    {
     "data": {
      "text/plain": [
       "6470.417919999998"
      ]
     },
     "execution_count": 15,
     "metadata": {},
     "output_type": "execute_result"
    }
   ],
   "source": [
    "mse"
   ]
  },
  {
   "cell_type": "code",
   "execution_count": 16,
   "id": "4404a5ea",
   "metadata": {},
   "outputs": [],
   "source": [
    "import seaborn as sns"
   ]
  },
  {
   "cell_type": "code",
   "execution_count": 17,
   "id": "f784e49e",
   "metadata": {},
   "outputs": [],
   "source": [
    "X = zp.reshape((10,1))"
   ]
  },
  {
   "cell_type": "code",
   "execution_count": 19,
   "id": "b98e712b",
   "metadata": {},
   "outputs": [
    {
     "data": {
      "text/plain": [
       "array([[ 35],\n",
       "       [ 45],\n",
       "       [190],\n",
       "       [200],\n",
       "       [ 40],\n",
       "       [ 70],\n",
       "       [ 54],\n",
       "       [150],\n",
       "       [120],\n",
       "       [110]])"
      ]
     },
     "execution_count": 19,
     "metadata": {},
     "output_type": "execute_result"
    }
   ],
   "source": [
    "X"
   ]
  },
  {
   "cell_type": "code",
   "execution_count": 20,
   "id": "3f522a04",
   "metadata": {},
   "outputs": [],
   "source": [
    "Y = ks.reshape((10,1))"
   ]
  },
  {
   "cell_type": "code",
   "execution_count": 21,
   "id": "bacc77a3",
   "metadata": {},
   "outputs": [
    {
     "data": {
      "text/plain": [
       "array([[401],\n",
       "       [574],\n",
       "       [874],\n",
       "       [919],\n",
       "       [459],\n",
       "       [739],\n",
       "       [653],\n",
       "       [902],\n",
       "       [746],\n",
       "       [832]])"
      ]
     },
     "execution_count": 21,
     "metadata": {},
     "output_type": "execute_result"
    }
   ],
   "source": [
    "Y"
   ]
  },
  {
   "cell_type": "code",
   "execution_count": 22,
   "id": "516fc110",
   "metadata": {},
   "outputs": [],
   "source": [
    "B = np.dot(np.linalg.inv(np.dot(X.T,X)),X.T@Y)"
   ]
  },
  {
   "cell_type": "code",
   "execution_count": 23,
   "id": "c6c7cf56",
   "metadata": {},
   "outputs": [
    {
     "data": {
      "text/plain": [
       "array([[5.88982042]])"
      ]
     },
     "execution_count": 23,
     "metadata": {},
     "output_type": "execute_result"
    }
   ],
   "source": [
    "B"
   ]
  },
  {
   "cell_type": "markdown",
   "id": "039ded46",
   "metadata": {},
   "source": [
    "2. Посчитать коэффициент линейной регрессии при заработной плате (zp), используя градиентный спуск (без intercept).\n"
   ]
  },
  {
   "cell_type": "code",
   "execution_count": 24,
   "id": "0583d7de",
   "metadata": {},
   "outputs": [],
   "source": [
    "def mse(B1, y=Y, X=X, n=10):\n",
    "    return np.sum((B1*X-y))**2/n"
   ]
  },
  {
   "cell_type": "code",
   "execution_count": 158,
   "id": "16c7a279",
   "metadata": {},
   "outputs": [],
   "source": [
    "alpha = 1e-6"
   ]
  },
  {
   "cell_type": "code",
   "execution_count": 159,
   "id": "60271d02",
   "metadata": {},
   "outputs": [
    {
     "data": {
      "text/plain": [
       "1e-06"
      ]
     },
     "execution_count": 159,
     "metadata": {},
     "output_type": "execute_result"
    }
   ],
   "source": [
    "alpha"
   ]
  },
  {
   "cell_type": "code",
   "execution_count": 160,
   "id": "0f016be3",
   "metadata": {},
   "outputs": [],
   "source": [
    "B1=0.1"
   ]
  },
  {
   "cell_type": "code",
   "execution_count": 161,
   "id": "555e831a",
   "metadata": {},
   "outputs": [],
   "source": [
    "n=10"
   ]
  },
  {
   "cell_type": "code",
   "execution_count": 162,
   "id": "d0ff7773",
   "metadata": {},
   "outputs": [
    {
     "data": {
      "text/plain": [
       "array([ 35,  45, 190, 200,  40,  70,  54, 150, 120, 110])"
      ]
     },
     "execution_count": 162,
     "metadata": {},
     "output_type": "execute_result"
    }
   ],
   "source": [
    "zp"
   ]
  },
  {
   "cell_type": "code",
   "execution_count": 163,
   "id": "2ba9ab64",
   "metadata": {},
   "outputs": [
    {
     "data": {
      "text/plain": [
       "array([401, 574, 874, 919, 459, 739, 653, 902, 746, 832])"
      ]
     },
     "execution_count": 163,
     "metadata": {},
     "output_type": "execute_result"
    }
   ],
   "source": [
    "ks"
   ]
  },
  {
   "cell_type": "code",
   "execution_count": 31,
   "id": "95149573",
   "metadata": {},
   "outputs": [
    {
     "name": "stdout",
     "output_type": "stream",
     "text": [
      "B1=0.25952808,mse=4672868.836557692\n",
      "B1=1.6319792141937546,mse=2963902.0490235994\n",
      "B1=2.6698789606516935,mse=1928740.424075627\n",
      "B1=3.4547782236263824,mse=1293017.2326958016\n",
      "B1=4.04834889855975,mse=896388.1611224925\n",
      "B1=4.497229618367758,mse=644555.1986316771\n",
      "B1=4.836690291080364,mse=481625.18000471697\n",
      "B1=5.093403362579137,mse=374147.3898168932\n",
      "B1=5.287539550879594,mse=301868.00157817255\n",
      "B1=5.434352720103083,mse=252354.3022348999\n",
      "B1=5.54537842245223,mse=217853.54976661596\n",
      "B1=5.629340281237233,mse=193446.08151390357\n",
      "B1=5.692835432193034,mse=175950.9056003361\n",
      "B1=5.740852880272922,mse=163270.94090990257\n",
      "B1=5.777165500770666,mse=153996.7282365697\n",
      "B1=5.804626485478126,mse=147163.28241024847\n",
      "B1=5.825393526544474,mse=142098.5500973364\n",
      "B1=5.8410983528369655,mse=138327.3003509411\n",
      "B1=5.852974939784972,mse=135509.01879005184\n",
      "B1=5.861956466540286,mse=133396.9890733187\n",
      "B1=5.868748638669329,mse=131810.8077273557\n",
      "B1=5.873885137561711,mse=130617.5769878702\n",
      "B1=5.877769553381888,mse=129718.81342016591\n",
      "B1=5.880707096362074,mse=129041.19471129654\n",
      "B1=5.882928578088004,mse=128529.93205404797\n",
      "B1=5.884608547059329,mse=128143.96969981577\n",
      "B1=5.885879003490128,mse=127852.47569578621\n",
      "B1=5.8868397709626885,mse=127632.25725654986\n",
      "B1=5.887566339866551,mse=127465.845750524\n",
      "B1=5.888115798905433,mse=127340.07112989684\n",
      "B1=5.888531320728348,mse=127244.99680579857\n",
      "B1=5.888845554134484,mse=127173.1215638488\n",
      "B1=5.889083189387522,mse=127118.78025635416\n",
      "B1=5.889262898203911,mse=127077.69300436213\n",
      "B1=5.889398800845774,mse=127046.6256719067\n",
      "B1=5.889501575592372,mse=127023.13389567735\n",
      "B1=5.889579297764605,mse=127005.369963441\n",
      "B1=5.889638074227276,mse=126991.93702717568\n",
      "B1=5.889682523223808,mse=126981.77900163717\n",
      "B1=5.889716137245525,mse=126974.09738618226\n",
      "B1=5.8897415574471985,mse=126968.28841071585\n",
      "B1=5.889760781170516,mse=126963.89553077621\n",
      "B1=5.88977531888123,mse=126960.57351835535\n",
      "B1=5.889786312850989,mse=126958.06131507673\n",
      "B1=5.8897946269090555,mse=126956.16150791582\n",
      "B1=5.889800914315978,mse=126954.72481092392\n",
      "B1=5.8898056690922225,mse=126953.63833141487\n",
      "B1=5.889809264834859,mse=126952.81669737503\n",
      "B1=5.889811984072197,mse=126952.19534823042\n",
      "B1=5.889814040462894,mse=126951.72546138513\n",
      "B1=5.889815595583751,mse=126951.37011565862\n",
      "B1=5.889816771625289,mse=126951.10139003566\n",
      "B1=5.889817660992628,mse=126950.89816968815\n",
      "B1=5.889818333566034,mse=126950.74448684028\n",
      "B1=5.889818842191625,mse=126950.6282660875\n",
      "B1=5.889819226833643,mse=126950.54037556883\n",
      "B1=5.889819517714565,mse=126950.47390943638\n",
      "B1=5.889819737689781,mse=126950.42364523055\n",
      "B1=5.889819904043407,mse=126950.38563353282\n",
      "B1=5.889820029846346,mse=126950.35688764513\n",
      "B1=5.889820124983314,mse=126950.33514891358\n",
      "B1=5.889820196929507,mse=126950.31870925931\n",
      "B1=5.889820251337954,mse=126950.30627696813\n",
      "B1=5.88982029248369,mse=126950.29687519753\n",
      "B1=5.889820323599662,mse=126950.28976522079\n",
      "B1=5.889820347130743,mse=126950.28438838627\n",
      "B1=5.88982036492584,mse=126950.28032221987\n",
      "B1=5.88982037838317,mse=126950.27724722998\n",
      "B1=5.889820388560115,mse=126950.27492180574\n",
      "B1=5.889820396256308,mse=126950.2731632314\n",
      "B1=5.889820402076462,mse=126950.2718333306\n",
      "B1=5.8898204064778845,mse=126950.27082760885\n",
      "B1=5.889820409806407,mse=126950.27006704407\n",
      "B1=5.889820412323561,mse=126950.26949187616\n",
      "B1=5.88982041422713,mse=126950.2690569122\n",
      "B1=5.889820415666681,mse=126950.26872797597\n",
      "B1=5.889820416755325,mse=126950.26847922162\n",
      "B1=5.889820417578597,mse=126950.26829110456\n",
      "B1=5.889820418201186,mse=126950.26814884343\n",
      "B1=5.889820418672012,mse=126950.26804126005\n",
      "B1=5.88982041902807,mse=126950.26795990097\n",
      "B1=5.889820419297334,mse=126950.2678983745\n",
      "B1=5.889820419500961,mse=126950.26785184583\n",
      "B1=5.889820419654952,mse=126950.26781665895\n",
      "B1=5.8898204197714055,mse=126950.26779004952\n",
      "B1=5.889820419859474,mse=126950.267769926\n",
      "B1=5.889820419926073,mse=126950.26775470807\n",
      "B1=5.889820419976438,mse=126950.26774319976\n",
      "B1=5.889820420014526,mse=126950.26773449671\n",
      "B1=5.889820420043329,mse=126950.26772791517\n",
      "B1=5.889820420065112,mse=126950.26772293777\n",
      "B1=5.889820420081584,mse=126950.26771917392\n",
      "B1=5.8898204200940425,mse=126950.26771632713\n",
      "B1=5.889820420103463,mse=126950.2677141745\n",
      "B1=5.889820420110588,mse=126950.26771254647\n",
      "B1=5.889820420115975,mse=126950.26771131558\n",
      "B1=5.889820420120048,mse=126950.26771038487\n",
      "B1=5.88982042012313,mse=126950.2677096806\n",
      "B1=5.889820420125461,mse=126950.26770914809\n",
      "B1=5.889820420127222,mse=126950.26770874558\n"
     ]
    }
   ],
   "source": [
    "B1_plot=[]\n",
    "mse_plot=[]\n",
    "i_plot=[]\n",
    "\n",
    "for i in range(1000):\n",
    "    B1 -= alpha*(2/n)*np.sum((B1*zp-ks)*zp)\n",
    "    B1_plot.append(B1)\n",
    "    mse_plot.append(mse(B1))\n",
    "    i_plot.append(i)\n",
    "    if i % 10 == 0:\n",
    "        print('B1={B1},mse={mse}'.format(i=i,B1=B1,mse=mse(B1)))"
   ]
  },
  {
   "cell_type": "code",
   "execution_count": 32,
   "id": "b743870b",
   "metadata": {},
   "outputs": [
    {
     "data": {
      "image/png": "[encoded data removed]",
      "text/plain": [
       "<Figure size 432x288 with 1 Axes>"
      ]
     },
     "metadata": {
      "needs_background": "light"
     },
     "output_type": "display_data"
    }
   ],
   "source": [
    "plt.plot(i_plot[:300], mse_plot[:300])\n",
    "plt.title('Изменение ошибки без Intercept')\n",
    "plt.show()"
   ]
  },
  {
   "cell_type": "markdown",
   "id": "0665b9ba",
   "metadata": {},
   "source": [
    "*3. Произвести вычисления как в пункте 2, но с вычислением intercept. \n",
    "    Учесть, что изменение коэффициентов должно \n",
    "    производиться на каждом шаге одновременно\n",
    "    (то есть изменение одного коэффициента не должно влиять на изменение другого во время одной итерации)."
   ]
  },
  {
   "cell_type": "code",
   "execution_count": 164,
   "id": "ca0d7658",
   "metadata": {},
   "outputs": [],
   "source": [
    "def mse_inter(B1,B0, y=Y, X=X, n=10):\n",
    "    return np.sum((B1*X+B0-y))**2/n"
   ]
  },
  {
   "cell_type": "code",
   "execution_count": 165,
   "id": "1054264b",
   "metadata": {},
   "outputs": [
    {
     "name": "stdout",
     "output_type": "stream",
     "text": [
      "B1=0.25952808,B0=746.8670821503999,mse=40047.671311907645\n",
      "B1=0.414660650906144,B0=683.6561444285736,mse=2497.264154795388\n",
      "B1=0.5655188230595969,B0=658.7763419591203,mse=386.87785682438994\n",
      "B1=0.7122203698240712,B0=641.8999519916954,mse=178.0078364578738\n",
      "B1=0.8548798195302346,B0=626.9521394380464,mse=139.6481875868876\n",
      "B1=0.9936085448867542,B0=612.7089027263958,mse=126.79362001506908\n",
      "B1=1.1285148499277806,B0=598.9166559191376,mse=118.89129499520247\n",
      "B1=1.2597040545647504,B0=585.516138277535,mse=112.23367066431668\n",
      "B1=1.387278576808517,B0=572.4871895048001,mse=106.09594132659291\n",
      "B1=1.5113380127259965,B0=559.8176983086272,mse=100.32250448119106\n",
      "B1=1.6319792141937546,B0=547.4973858063281,mse=94.86881259644588\n",
      "B1=1.7492963645092312,B0=535.5165560722768,mse=89.7126756977049\n",
      "B1=1.8633810519186353,B0=523.8658402828156,mse=84.83698650424728\n",
      "B1=1.9743223411189108,B0=512.5361397449971,mse=80.22632142290247\n",
      "B1=2.082206842789593,B0=501.51860886190764,mse=75.86624172489385\n",
      "B1=2.187118781208843,B0=490.80464624072016,mse=71.74312190512333\n",
      "B1=2.2891400600064395,B0=480.38588758042164,mse=67.84408251346383\n",
      "B1=2.38835032610507,B0=470.25419906244105,mse=64.15694514086178\n",
      "B1=2.484827031899832,B0=460.4016709847739,mse=60.67019345076443\n",
      "B1=2.5786454957244893,B0=450.82061158378417,mse=57.37293702830675\n",
      "B1=2.6698789606516935,B0=441.5035410286915,mse=54.25487733036\n",
      "B1=2.7585986516730654,B0=432.4431855820192,mse=51.30627551252716\n",
      "B1=2.844873831303787,B0=423.63247192104063,mse=48.51792200984562\n",
      "B1=2.9287718536551073,B0=415.0645216157058,mse=45.881107771679254\n",
      "B1=3.0103582170169774,B0=406.73264575872395,mse=43.38759706009702\n",
      "B1=3.089696614991865,B0=398.6303397436047,mse=41.02960172664717\n",
      "B1=3.166848986219671,B0=390.7512781865812,mse=38.79975688710314\n",
      "B1=3.2418755627325635,B0=383.0893099884507,mse=36.69109791822686\n",
      "B1=3.3148349169774805,B0=375.63845353247694,mse=34.697038704703644\n",
      "B1=3.3857840075430166,B0=368.3928920146059,mse=32.81135106828329\n",
      "B1=3.4547782236263824,B0=361.34696890234903,mse=31.028145314897284\n",
      "B1=3.52187142827516,B0=354.4951835187888,mse=29.34185183898071\n",
      "B1=3.587116000437609,B0=347.83218674825895,mse=27.747203727557906\n",
      "B1=3.6505628758543516,B0=341.3527768603468,mse=26.239220309734897\n",
      "B1=3.7122615868233613,B0=335.0518954489583,mse=24.813191600238497\n",
      "B1=3.7722603008693,B0=328.92462348327405,mse=23.464663588412822\n",
      "B1=3.8306058583473876,B0=322.96617746751474,mse=22.18942432669898\n",
      "B1=3.8873438090111705,B0=317.1719057065168,mse=20.983490775186322\n",
      "B1=3.942518447572724,B0=311.537284674204,mse=19.843096361113876\n",
      "B1=3.996172848283063,B0=306.05791548211874,mse=18.764679214483607\n",
      "B1=4.04834889855975,B0=300.7295204452568,mse=17.744871043033402\n",
      "B1=4.0990873316879535,B0=295.5479397425246,mse=16.780486611829694\n",
      "B1=4.148427758620489,B0=290.50912816921084,mse=15.868513794599659\n",
      "B1=4.196408698901667,B0=285.60915197893894,mse=15.00610416576998\n",
      "B1=4.2430676107390894,B0=280.8441858126329,mse=14.19056410377596\n",
      "B1=4.288440920246873,B0=276.21050971210025,mse=13.419346377905445\n",
      "B1=4.332564049883127,B0=271.70450621590084,mse=12.690042192351404\n",
      "B1=4.375471446103887,B0=267.3226575352328,mse=12.00037366266861\n",
      "B1=4.417196606255097,B0=263.0615428076331,mse=11.348186701104982\n",
      "B1=4.457772104723629,B0=258.9178354263458,mse=10.731444288583692\n",
      "B1=4.497229618367758,B0=254.88830044327662,mse=10.148220112360862\n",
      "B1=4.535599951246947,B0=250.96979204350293,mse=9.596692549435385\n",
      "B1=4.57291305867025,B0=247.15925108936995,mse=9.075138976953728\n",
      "B1=4.609198070582097,B0=243.4537027322543,mse=8.581930391826512\n",
      "B1=4.644483314303734,B0=239.85025409013193,mse=8.115526322758434\n",
      "B1=4.678796336648061,B0=236.3460919891357,mse=7.674470018786115\n",
      "B1=4.71216392542513,B0=232.93848076734062,mse=7.257383899314955\n",
      "B1=4.744612130355106,B0=229.62476013906192,mse=6.862965251425438\n",
      "B1=4.776166283405006,B0=226.4023431179983,mse=6.489982161025426\n",
      "B1=4.806851018565092,B0=223.26871399759943,mse=6.137269665132687\n",
      "B1=4.836690291080364,B0=220.22142638708075,mse=5.8037261132634015\n",
      "B1=4.865707396152168,B0=217.25810130155224,mse=5.488309726576236\n",
      "B1=4.8939249871245085,B0=214.37642530477032,mse=5.190035344018117\n",
      "B1=4.921365093169269,B0=211.57414870306292,mse=4.907971345297821\n",
      "B1=4.9480491364841575,B0=208.84908378901775,mse=4.641236741100408\n",
      "B1=4.973997949016782,B0=206.19910313356218,mse=4.388998421430562\n",
      "B1=4.999231788727933,B0=203.62213792510252,mse=4.150468553507212\n",
      "B1=5.0237703554067545,B0=201.11617635442457,mse=3.924902121071645\n",
      "B1=5.047632806050161,B0=198.67926204409588,mse=3.7115945974285913\n",
      "B1=5.0708377698185,B0=196.3094925211425,mse=3.5098797449492465\n",
      "B1=5.093403362579137,B0=194.00501773180892,mse=3.319127534171295\n",
      "B1=5.115347201049321,B0=191.76403859724087,mse=3.138742175981062\n",
      "B1=5.136686416549369,B0=189.58480560896334,mse=2.9681602607482356\n",
      "B1=5.157437668376901,B0=187.46561746305844,mse=2.806848998589905\n",
      "B1=5.177617156812579,B0=185.40481973197532,mse=2.6543045552735363\n",
      "B1=5.19724063576749,B0=183.40080357293627,mse=2.5100504785560553\n",
      "B1=5.216323425082061,B0=181.45200447193048,mse=2.373636210050484\n",
      "B1=5.23488042248609,B0=179.55690102231446,mse=2.2446356779664836\n",
      "B1=5.252926115229246,B0=177.71401373706644,mse=2.122645966330366\n",
      "B1=5.270474591391111,B0=175.92190389376634,mse=2.0072860565331725\n",
      "B1=5.287539550879594,B0=174.1791724114006,mse=1.8981956372678095\n",
      "B1=5.304134316126299,B0=172.48445875811478,mse=1.795033979145994\n",
      "B1=5.320271842487208,B0=170.83643988906064,mse=1.6974788704739978\n",
      "B1=5.33596472835679,B0=169.23382921350935,mse=1.6052256108695446\n",
      "B1=5.35122522500343,B0=167.6753755904237,mse=1.5179860595681123\n",
      "B1=5.366065246133865,B0=166.15986235170558,mse=1.4354877354561133\n",
      "B1=5.380496377194089,B0=164.6861063523566,mse=1.3574729660107905\n",
      "B1=5.394529884413985,B0=163.25295704680886,mse=1.283698082494998\n",
      "B1=5.408176723602749,B0=161.85929559070675,mse=1.2139326588905253\n",
      "B1=5.421447548701978,B0=160.5040339674369,mse=1.1479587921925538\n",
      "B1=5.434352720103083,B0=159.18611413872532,mse=1.0855704218194207\n",
      "B1=5.4469023127355385,B0=157.90450721863817,mse=1.0265726860094229\n",
      "B1=5.459106123932274,B0=156.6582126703416,mse=0.9707813131960716\n",
      "B1=5.470973681078343,B0=155.44625752499314,mse=0.918022046460367\n",
      "B1=5.482514249048855,B0=154.26769562215546,mse=0.868130099262616\n",
      "B1=5.493736837441962,B0=153.12160687113914,mse=0.8209496407539512\n",
      "B1=5.504650207612556,B0=152.00709653269726,mse=0.7763333090584408\n",
      "B1=5.515262879512166,B0=150.92329452051254,mse=0.7341417510099948\n",
      "B1=5.525583138340392,B0=149.86935472192994,mse=0.6942431868977202\n",
      "B1=5.535619041013072,B0=148.8444543374056,mse=0.6565129988737147\n",
      "B1=5.54537842245223,B0=147.84779323815624,mse=0.6208333417231953\n",
      "B1=5.5548689017027195,B0=146.87859334150664,mse=0.5870927747910988\n",
      "B1=5.564097887880324,B0=145.93609800344942,mse=0.5551859139121544\n",
      "B1=5.57307258595598,B0=145.01957142794078,mse=0.5250131022585043\n",
      "B1=5.581800002380618,B0=144.12829809247248,mse=0.4964800990731749\n",
      "B1=5.590286950555024,B0=143.26158218947094,mse=0.46949778532224207\n",
      "B1=5.598540056148991,B0=142.41874708308802,mse=0.4439818853446519\n",
      "B1=5.606565762273907,B0=141.59913478095828,mse=0.41985270362659605\n",
      "B1=5.614370334512821,B0=140.8021054205116,mse=0.39703487588373804\n",
      "B1=5.621959865811922,B0=140.02703676943918,mse=0.37545713367184985\n",
      "B1=5.629340281237233,B0=139.2733237399235,mse=0.35505208178840186\n",
      "B1=5.636517342600247,B0=138.54037791625262,mse=0.33575598777285265\n",
      "B1=5.643496652956114,B0=137.8276270954506,mse=0.31750858284637545\n",
      "B1=5.650283660977884,B0=137.13451484056415,mse=0.3002528736710573\n",
      "B1=5.656883665210228,B0=136.46050004625914,mse=0.28393496433874077\n",
      "B1=5.663301818205958,B0=135.80505651638455,mse=0.268503888034201\n",
      "B1=5.669543130548566,B0=135.16767255317725,mse=0.25391144784607944\n",
      "B1=5.675612474763935,B0=134.54785055778507,mse=0.240112066232571\n",
      "B1=5.681514589124269,B0=133.9451066417963,mse=0.22706264266337675\n",
      "B1=5.68725408134721,B0=133.35897024947357,mse=0.21472241900316277\n",
      "B1=5.692835432193034,B0=132.7889837903958,mse=0.20305285220752367\n",
      "B1=5.698262998962733,B0=132.23470228222226,mse=0.1920174939393799\n",
      "B1=5.703541018899712,B0=131.69569300329977,mse=0.18158187672775644\n",
      "B1=5.708673612497765,B0=131.17153515484128,mse=0.17171340631285995\n",
      "B1=5.713664786717891,B0=130.66181953241292,mse=0.16238125984219892\n",
      "B1=5.7185184381164955,B0=130.16614820647246,mse=0.15355628959974293\n",
      "B1=5.723238355887384,B0=129.68413421170993,mse=0.1452109319668811\n",
      "B1=5.727828224819947,B0=129.21540124494786,mse=0.13731912133093588\n",
      "B1=5.7322916281758385,B0=128.75958337136555,mse=0.12985620867322265\n",
      "B1=5.736632050486384,B0=128.31632473881763,mse=0.12279888458019408\n",
      "B1=5.740852880272922,B0=127.88527930002407,mse=0.11612510644042003\n",
      "B1=5.7449574126921865,B0=127.46611054241467,mse=0.10981402959743716\n",
      "B1=5.748948852108796,B0=127.05849122541737,mse=0.1038459422432979\n",
      "B1=5.752830314596872,B0=126.66210312498522,mse=0.09820220385265727\n",
      "B1=5.756604830372722,B0=126.27663678516184,mse=0.09286518696052691\n",
      "B1=5.760275346160496,B0=125.90179127649296,mse=0.08781822210580457\n",
      "B1=5.763844727492667,B0=125.53727396109343,mse=0.08304554576626925\n",
      "B1=5.767315760947116,B0=125.18280026418864,mse=0.07853225112339865\n",
      "B1=5.770691156322588,B0=124.83809345194938,mse=0.07426424150252091\n",
      "B1=5.7739735487542,B0=124.50288441544919,mse=0.07022818634465475\n",
      "B1=5.777165500770666,B0=124.17691146057341,mse=0.06641147956897528\n",
      "B1=5.780269504294831,B0=123.85992010371797,mse=0.06280220020065888\n",
      "B1=5.783287982589095,B0=123.55166287311621,mse=0.05938907513638584\n",
      "B1=5.786223292147221,B0=123.2518991156407,mse=0.05616144393493246\n",
      "B1=5.78907772453403,B0=122.9603948089276,mse=0.05310922552011689\n",
      "B1=5.791853508174399,B0=122.67692237867827,mse=0.05022288669465219\n",
      "B1=5.794552810092968,B0=122.40126052099409,mse=0.04749341236374154\n",
      "B1=5.797177737605915,B0=122.133194029607,mse=0.04491227737784404\n",
      "B1=5.7997303399661115,B0=121.87251362787042,mse=0.04247141990592436\n",
      "B1=5.802212609962957,B0=121.619015805379,mse=0.040163216254957335\n",
      "B1=5.804626485478126,B0=121.37250265909022,mse=0.03798045705826421\n",
      "B1=5.80697385099845,B0=121.13278173882382,mse=0.03591632475833694\n",
      "B1=5.809256539087119,B0=120.89966589701764,mse=0.03396437231316444\n",
      "B1=5.811476331814344,B0=120.67297314262396,mse=0.032118503059102764\n",
      "B1=5.813634962148597,B0=120.45252649903061,mse=0.030372951669725912\n",
      "B1=5.815734115309524,B0=120.23815386589756,mse=0.028722266147755082\n",
      "B1=5.817775430083577,B0=120.02968788479973,mse=0.02716129079691463\n",
      "B1=5.819760500103398,B0=119.82696580857225,mse=0.025685150118730283\n",
      "B1=5.821690875091949,B0=119.62982937425552,mse=0.024289233584447775\n",
      "B1=5.823568062072366,B0=119.4381246795408,mse=0.022969181234799164\n",
      "B1=5.825393526544474,B0=119.25170206262045,mse=0.021720870062154115\n",
      "B1=5.827168693628889,B0=119.0704159853486,mse=0.02054040113285408\n",
      "B1=5.828894949179594,B0=118.89412491962109,mse=0.01942408740959423\n",
      "B1=5.830573640865858,B0=118.72269123688578,mse=0.01836844223513199\n",
      "B1=5.8322060792243535,B0=118.5559811006976,mse=0.0173701684424308\n",
      "B1=5.8337935386822695,B0=118.3938643622338,mse=0.016426148056334113\n",
      "B1=5.835337258552249,B0=118.2362144586883,mse=0.015533432554942325\n",
      "B1=5.836838443999907,B0=118.08290831446519,mse=0.014689233660345705\n",
      "B1=5.838298266984689,B0=117.93382624509512,mse=0.013890914629805889\n",
      "B1=5.839717867174806,B0=117.78885186379877,mse=0.013135982020163282\n",
      "B1=5.8410983528369655,B0=117.64787199062512,mse=0.01242207790005833\n",
      "B1=5.842440801701578,B0=117.51077656409302,mse=0.011746972485006953\n",
      "B1=5.843746261804134,B0=117.37745855526724,mse=0.011108557173292174\n",
      "B1=5.845015752303393,B0=117.24781388420222,mse=0.010504837959732966\n",
      "B1=5.846250264277027,B0=117.121741338688,mse=0.009933929207778532\n",
      "B1=5.84745076149535,B0=116.99914249523482,mse=0.009394047760023855\n",
      "B1=5.848618181173716,B0=116.87992164223512,mse=0.008883507368735947\n",
      "B1=5.8497534347042,B0=116.76398570524229,mse=0.008400713428997172\n",
      "B1=5.8508574083671085,B0=116.65124417430862,mse=0.007944157998316293\n",
      "B1=5.851930964022888,B0=116.54160903332506,mse=0.007512415086536309\n",
      "B1=5.852974939784972,B0=116.43499469130808,mse=0.007104136202311069\n",
      "B1=5.853990150674089,B0=116.33131791557953,mse=0.006718046140933411\n",
      "B1=5.854977389254535,B0=116.23049776678799,mse=0.006352939001441342\n",
      "B1=5.855937426252927,B0=116.13245553572015,mse=0.006007674420470209\n",
      "B1=5.856871011159895,B0=116.03711468185335,mse=0.00568117401004631\n",
      "B1=5.857778872815205,B0=115.94440077360126,mse=0.0053724179896126895\n",
      "B1=5.858661719976753,B0=115.85424143020609,mse=0.0050804420009011465\n",
      "B1=5.859520241873889,B0=115.76656626523136,mse=0.004804334095849328\n",
      "B1=5.860355108745489,B0=115.68130683161219,mse=0.004543231888151571\n",
      "B1=5.861166972363203,B0=115.59839656821941,mse=0.0042963198599213215\n",
      "B1=5.861956466540286,B0=115.5177707478959,mse=0.004062826814267194\n",
      "B1=5.862724207626408,B0=115.439366426925,mse=0.003842023466832041\n",
      "B1=5.863470794988836,B0=115.36312239589061,mse=0.0036332201677200513\n",
      "B1=5.864196811480349,B0=115.2889791318922,mse=0.003435764747709727\n",
      "B1=5.864902823894269,B0=115.21687875207532,mse=0.003249040481080277\n",
      "B1=5.865589383406945,B0=115.14676496844366,mse=0.0030724641594725407\n",
      "B1=5.866257026008057,B0=115.07858304391513,mse=0.00290548427026161\n",
      "B1=5.866906272919052,B0=115.0122797495895,mse=0.002747579274013068\n",
      "B1=5.867537631000059,B0=114.94780332319314,mse=0.0025982559755270774\n",
      "B1=5.868151593145588,B0=114.88510342866854,mse=0.002457047983377721\n"
     ]
    }
   ],
   "source": [
    "B1_inter_plot=[]\n",
    "mse_inter_plot=[]\n",
    "i_inter_plot=[]\n",
    "inter_inter_plot=[]\n",
    "B1=0.1\n",
    "B0=1000\n",
    "beta=0.4\n",
    "for i in range(200):\n",
    "    B1 -= alpha*(2/n)*np.sum((B1*zp-ks)*zp)\n",
    "    B1_inter_plot.append(B1)\n",
    "    B0 -= beta*(2/n)*np.sum((B1*zp+B0-ks)*1)\n",
    "    mse_inter_plot.append(mse_inter(B1,B0))\n",
    "    i_inter_plot.append(i)\n",
    "    inter_inter_plot.append(B0)\n",
    "    print('B1={B1},B0={B0},mse={mse}'.format(i=i,B1=B1,B0=B0,mse=mse_inter(B1,B0)))"
   ]
  },
  {
   "cell_type": "code",
   "execution_count": 166,
   "id": "1f7c89b6",
   "metadata": {},
   "outputs": [
    {
     "data": {
      "image/png": "[encoded data removed]",
      "text/plain": [
       "<Figure size 432x288 with 1 Axes>"
      ]
     },
     "metadata": {
      "needs_background": "light"
     },
     "output_type": "display_data"
    }
   ],
   "source": [
    "\n",
    "plt.plot(i_inter_plot[:30],inter_inter_plot[:30])\n",
    "plt.title('коэф B0')\n",
    "plt.show()"
   ]
  },
  {
   "cell_type": "code",
   "execution_count": 167,
   "id": "f64f8cab",
   "metadata": {},
   "outputs": [
    {
     "data": {
      "image/png": "[encoded data removed]",
      "text/plain": [
       "<Figure size 432x288 with 1 Axes>"
      ]
     },
     "metadata": {
      "needs_background": "light"
     },
     "output_type": "display_data"
    }
   ],
   "source": [
    "plt.plot(i_inter_plot[:30],B1_inter_plot[:30])\n",
    "plt.title('коэф B1')\n",
    "plt.show()"
   ]
  },
  {
   "cell_type": "code",
   "execution_count": 168,
   "id": "fda22c26",
   "metadata": {},
   "outputs": [
    {
     "data": {
      "image/png": "[encoded data removed]",
      "text/plain": [
       "<Figure size 432x288 with 1 Axes>"
      ]
     },
     "metadata": {
      "needs_background": "light"
     },
     "output_type": "display_data"
    }
   ],
   "source": [
    "\n",
    "plt.plot(i_inter_plot[:30], mse_inter_plot[:30])\n",
    "plt.title('Изменение ошибки с Intercept')\n",
    "plt.show()"
   ]
  }
 ],
 "metadata": {
  "kernelspec": {
   "display_name": "Python 3",
   "language": "python",
   "name": "python3"
  },
  "language_info": {
   "codemirror_mode": {
    "name": "ipython",
    "version": 3
   },
   "file_extension": ".py",
   "mimetype": "text/x-python",
   "name": "python",
   "nbconvert_exporter": "python",
   "pygments_lexer": "ipython3",
   "version": "3.8.5"
  }
 },
 "nbformat": 4,
 "nbformat_minor": 5
}
