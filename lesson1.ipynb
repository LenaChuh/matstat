{
 "cells": [
  {
   "cell_type": "code",
   "execution_count": 6,
   "id": "c2fbdb09",
   "metadata": {},
   "outputs": [],
   "source": [
    "from math import factorial"
   ]
  },
  {
   "cell_type": "code",
   "execution_count": 8,
   "id": "58185ea2",
   "metadata": {},
   "outputs": [],
   "source": [
    "def combinations(n, k):\n",
    "    return int(factorial(n) / (factorial(k) * factorial(n - k)))"
   ]
  },
  {
   "cell_type": "markdown",
   "id": "2649e2ff",
   "metadata": {},
   "source": [
    "## Задача 1\n"
   ]
  },
  {
   "cell_type": "markdown",
   "id": "75ad83be",
   "metadata": {},
   "source": [
    "Из колоды в 52 карты извлекаются случайным образом 4 карты. a) Найти вероятность того, что все карты – крести. \n",
    "б) Найти вероятность, что среди 4-х карт окажется хотя бы один туз."
   ]
  },
  {
   "cell_type": "code",
   "execution_count": 28,
   "id": "bec32383",
   "metadata": {},
   "outputs": [
    {
     "data": {
      "text/plain": [
       "0.0026410564225690276"
      ]
     },
     "execution_count": 28,
     "metadata": {},
     "output_type": "execute_result"
    }
   ],
   "source": [
    "#Вероятность что все будут крести\n",
    "\n",
    "(13/52)*(12/51)*(11/50)*(10/49)"
   ]
  },
  {
   "cell_type": "code",
   "execution_count": 35,
   "id": "304300e8",
   "metadata": {},
   "outputs": [
    {
     "data": {
      "text/plain": [
       "194580"
      ]
     },
     "execution_count": 35,
     "metadata": {},
     "output_type": "execute_result"
    }
   ],
   "source": [
    "#количество сочетаний 4 карт из подмножества без тузов\n",
    "\n",
    "combinations(48,4)"
   ]
  },
  {
   "cell_type": "code",
   "execution_count": 25,
   "id": "129bd9a8",
   "metadata": {},
   "outputs": [
    {
     "data": {
      "text/plain": [
       "270725"
      ]
     },
     "execution_count": 25,
     "metadata": {},
     "output_type": "execute_result"
    }
   ],
   "source": [
    "#Общее количество сочетаний 4 карт из 52\n",
    "\n",
    "combinations(52,4)"
   ]
  },
  {
   "cell_type": "code",
   "execution_count": 36,
   "id": "5f487248",
   "metadata": {},
   "outputs": [
    {
     "data": {
      "text/plain": [
       "76145"
      ]
     },
     "execution_count": 36,
     "metadata": {},
     "output_type": "execute_result"
    }
   ],
   "source": [
    "#Число сочетаний с тузми: c 1,2,3,4 Тузами равно число всех соечетаний минус сочетаний с тузом\n",
    "\n",
    "combinations(52,4)-combinations(48,4)"
   ]
  },
  {
   "cell_type": "code",
   "execution_count": 37,
   "id": "4956c362",
   "metadata": {},
   "outputs": [
    {
     "data": {
      "text/plain": [
       "0.2812632745405855"
      ]
     },
     "execution_count": 37,
     "metadata": {},
     "output_type": "execute_result"
    }
   ],
   "source": [
    "#Вероятность что одна карта-это туз\n",
    "\n",
    "76145/270725"
   ]
  },
  {
   "cell_type": "markdown",
   "id": "5dcf6269",
   "metadata": {},
   "source": [
    "## Задача 2\n"
   ]
  },
  {
   "cell_type": "markdown",
   "id": "628e5c53",
   "metadata": {},
   "source": [
    "На входной двери подъезда установлен кодовый замок, содержащий десять кнопок с цифрами от 0 до 9. Код содержит три цифры, которые нужно нажать одновременно. Какова вероятность того, что человек, не знающий код, откроет дверь с первой попытки?"
   ]
  },
  {
   "cell_type": "code",
   "execution_count": 29,
   "id": "0e4e5000",
   "metadata": {},
   "outputs": [
    {
     "data": {
      "text/plain": [
       "120"
      ]
     },
     "execution_count": 29,
     "metadata": {},
     "output_type": "execute_result"
    }
   ],
   "source": [
    "combinations(10,3)"
   ]
  },
  {
   "cell_type": "code",
   "execution_count": 30,
   "id": "8a4400e9",
   "metadata": {},
   "outputs": [
    {
     "data": {
      "text/plain": [
       "0.008333333333333333"
      ]
     },
     "execution_count": 30,
     "metadata": {},
     "output_type": "execute_result"
    }
   ],
   "source": [
    "1/120"
   ]
  },
  {
   "cell_type": "markdown",
   "id": "4a25e6fc",
   "metadata": {},
   "source": [
    "# Задача 3"
   ]
  },
  {
   "cell_type": "markdown",
   "id": "de2bdac5",
   "metadata": {},
   "source": [
    "В ящике имеется 15 деталей, из которых 9 окрашены. Рабочий случайным образом извлекает 3 детали.\n",
    "Какова вероятность того, что все извлеченные детали окрашены?"
   ]
  },
  {
   "cell_type": "code",
   "execution_count": 31,
   "id": "0f4f3806",
   "metadata": {},
   "outputs": [
    {
     "data": {
      "text/plain": [
       "0.18461538461538457"
      ]
     },
     "execution_count": 31,
     "metadata": {},
     "output_type": "execute_result"
    }
   ],
   "source": [
    "(9/15)*(8/14)*(7/13)"
   ]
  },
  {
   "cell_type": "markdown",
   "id": "d295bfa8",
   "metadata": {},
   "source": [
    "# Задача 4"
   ]
  },
  {
   "cell_type": "markdown",
   "id": "d4add9eb",
   "metadata": {},
   "source": [
    "В лотерее 100 билетов. Из них 2 выигрышных. Какова вероятность того, что 2 приобретенных билета окажутся выигрышными?"
   ]
  },
  {
   "cell_type": "code",
   "execution_count": 32,
   "id": "f16a6b4f",
   "metadata": {},
   "outputs": [
    {
     "data": {
      "text/plain": [
       "4950"
      ]
     },
     "execution_count": 32,
     "metadata": {},
     "output_type": "execute_result"
    }
   ],
   "source": [
    "# Общее число сочетаний 2 билетов из 100\n",
    "\n",
    "combinations(100,2)"
   ]
  },
  {
   "cell_type": "code",
   "execution_count": 33,
   "id": "27f0d6e1",
   "metadata": {},
   "outputs": [
    {
     "data": {
      "text/plain": [
       "0.00020202020202020202"
      ]
     },
     "execution_count": 33,
     "metadata": {},
     "output_type": "execute_result"
    }
   ],
   "source": [
    "# Вероятность , что оба выигрышные\n",
    "\n",
    "1/4950"
   ]
  }
 ],
 "metadata": {
  "kernelspec": {
   "display_name": "Python 3",
   "language": "python",
   "name": "python3"
  },
  "language_info": {
   "codemirror_mode": {
    "name": "ipython",
    "version": 3
   },
   "file_extension": ".py",
   "mimetype": "text/x-python",
   "name": "python",
   "nbconvert_exporter": "python",
   "pygments_lexer": "ipython3",
   "version": "3.8.5"
  }
 },
 "nbformat": 4,
 "nbformat_minor": 5
}
