{
 "cells": [
  {
   "cell_type": "markdown",
   "id": "1185204b",
   "metadata": {},
   "source": [
    "Провести дисперсионный анализ для определения того, есть ли различия среднего роста среди взрослых футболистов, \n",
    "хоккеистов и штангистов. Даны значения роста в трех группах случайно выбранных спортсменов:\n",
    "    \n",
    "    Футболисты: 173, 175, 180, 178, 177, 185, 183, 182. \n",
    "    Хоккеисты: 177, 179, 180, 188, 177, 172, 171, 184, 180.\n",
    "    Штангисты: 172, 173, 169, 177, 166, 180, 178, 177, 172, 166, 170."
   ]
  },
  {
   "cell_type": "code",
   "execution_count": 1,
   "id": "1816f9de",
   "metadata": {},
   "outputs": [],
   "source": [
    "import numpy as np\n",
    "import scipy.stats as stats"
   ]
  },
  {
   "cell_type": "code",
   "execution_count": 2,
   "id": "cd6565c0",
   "metadata": {},
   "outputs": [],
   "source": [
    "football = np.array([173, 175, 180, 178, 177, 185, 183, 182])\n",
    "hokkey = np.array([177, 179, 180, 188, 177, 172, 171, 184, 180])\n",
    "shtanga = np.array([172, 173, 169, 177, 166, 180, 178, 177, 172, 166, 170])"
   ]
  },
  {
   "cell_type": "code",
   "execution_count": 3,
   "id": "3cf8e00f",
   "metadata": {},
   "outputs": [
    {
     "data": {
      "image/png": "[encoded data removed]",
      "text/plain": [
       "<Figure size 432x288 with 1 Axes>"
      ]
     },
     "metadata": {
      "needs_background": "light"
     },
     "output_type": "display_data"
    }
   ],
   "source": [
    "import seaborn as sns\n",
    "\n",
    "np.random.seed(111)\n",
    "\n",
    "all_arr = [football,\n",
    "           hokkey,\n",
    "           shtanga]\n",
    "\n",
    "g = sns.boxplot(data=all_arr)\n"
   ]
  },
  {
   "cell_type": "code",
   "execution_count": null,
   "id": "3c242ca5",
   "metadata": {},
   "outputs": [],
   "source": [
    "При визуальном анализе можно увидеть, что разница в средних значениях у футболистов и хокеистов меньше, \n",
    "чем в других группах."
   ]
  },
  {
   "cell_type": "code",
   "execution_count": 4,
   "id": "a389bc6f",
   "metadata": {},
   "outputs": [
    {
     "data": {
      "text/plain": [
       "F_onewayResult(statistic=5.500053450812596, pvalue=0.010482206918698694)"
      ]
     },
     "execution_count": 4,
     "metadata": {},
     "output_type": "execute_result"
    }
   ],
   "source": [
    "stats.f_oneway(football,\n",
    "           hokkey,\n",
    "           shtanga)"
   ]
  },
  {
   "cell_type": "code",
   "execution_count": null,
   "id": "76eb55cf",
   "metadata": {},
   "outputs": [],
   "source": [
    "при alpha=0.05  мы отвергаем нулевую гипотезу, говорим, что разница в трех группах статистически значима.\n",
    "при  alpha=0.01 мы принимаем разницу как статистически незначимую."
   ]
  }
 ],
 "metadata": {
  "kernelspec": {
   "display_name": "Python 3",
   "language": "python",
   "name": "python3"
  },
  "language_info": {
   "codemirror_mode": {
    "name": "ipython",
    "version": 3
   },
   "file_extension": ".py",
   "mimetype": "text/x-python",
   "name": "python",
   "nbconvert_exporter": "python",
   "pygments_lexer": "ipython3",
   "version": "3.8.5"
  }
 },
 "nbformat": 4,
 "nbformat_minor": 5
}
