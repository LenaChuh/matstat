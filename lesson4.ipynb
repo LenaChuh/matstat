{
 "cells": [
  {
   "cell_type": "markdown",
   "id": "92390d68",
   "metadata": {},
   "source": [
    "Случайная непрерывная величина A имеет равномерное распределение на промежутке (200, 800].\n",
    "Найдите ее среднее значение и дисперсию."
   ]
  },
  {
   "cell_type": "code",
   "execution_count": 4,
   "id": "4c0713d5",
   "metadata": {},
   "outputs": [],
   "source": [
    "import scipy.stats as sps\n",
    "import numpy as np\n",
    "import ipywidgets as widgets\n",
    "import matplotlib.pyplot as plt\n",
    "%matplotlib inline"
   ]
  },
  {
   "cell_type": "code",
   "execution_count": 7,
   "id": "8aafc0cf",
   "metadata": {},
   "outputs": [
    {
     "data": {
      "text/plain": [
       "300.0"
      ]
     },
     "execution_count": 7,
     "metadata": {},
     "output_type": "execute_result"
    }
   ],
   "source": [
    "#матожидание\n",
    "\n",
    "(800-200)/2"
   ]
  },
  {
   "cell_type": "code",
   "execution_count": 9,
   "id": "c69dea11",
   "metadata": {},
   "outputs": [
    {
     "data": {
      "text/plain": [
       "30000.0"
      ]
     },
     "execution_count": 9,
     "metadata": {},
     "output_type": "execute_result"
    }
   ],
   "source": [
    "#дисперсия\n",
    "\n",
    "((800-200)**2)/12"
   ]
  },
  {
   "cell_type": "markdown",
   "id": "4e9891fa",
   "metadata": {},
   "source": [
    "О случайной непрерывной равномерно распределенной величине B известно, что ее дисперсия равна 0.2.\n",
    "Можно ли найти правую границу величины B и ее среднее значение зная, что левая граница равна 0.5?\n",
    "Если да, найдите ее."
   ]
  },
  {
   "cell_type": "code",
   "execution_count": null,
   "id": "79ee049f",
   "metadata": {},
   "outputs": [],
   "source": [
    "(b-0.5)**2 = 0.2*12"
   ]
  },
  {
   "cell_type": "code",
   "execution_count": 10,
   "id": "eabb5609",
   "metadata": {},
   "outputs": [
    {
     "data": {
      "text/plain": [
       "1.5491933384829668"
      ]
     },
     "execution_count": 10,
     "metadata": {},
     "output_type": "execute_result"
    }
   ],
   "source": [
    "(0.2*12)**0.5"
   ]
  },
  {
   "cell_type": "code",
   "execution_count": null,
   "id": "c5127dff",
   "metadata": {},
   "outputs": [],
   "source": [
    "+/-1.5491933384829668+0.5"
   ]
  },
  {
   "cell_type": "code",
   "execution_count": null,
   "id": "ab3e74cf",
   "metadata": {},
   "outputs": [],
   "source": [
    "Значение должно быть больше, чем 0.5. Это значит ,что b = 0.5+1.5491933384829668"
   ]
  },
  {
   "cell_type": "code",
   "execution_count": 11,
   "id": "d17fee65",
   "metadata": {},
   "outputs": [
    {
     "data": {
      "text/plain": [
       "2.049193338482967"
      ]
     },
     "execution_count": 11,
     "metadata": {},
     "output_type": "execute_result"
    }
   ],
   "source": [
    "0.5+1.5491933384829668"
   ]
  },
  {
   "cell_type": "code",
   "execution_count": 13,
   "id": "2a868354",
   "metadata": {},
   "outputs": [],
   "source": [
    "m = (2.049193338482967-0.5)/2"
   ]
  },
  {
   "cell_type": "code",
   "execution_count": 15,
   "id": "f887e283",
   "metadata": {},
   "outputs": [
    {
     "data": {
      "text/plain": [
       "0.7745966692414834"
      ]
     },
     "execution_count": 15,
     "metadata": {},
     "output_type": "execute_result"
    }
   ],
   "source": [
    "#матожидание\n",
    "\n",
    "m"
   ]
  },
  {
   "cell_type": "markdown",
   "id": "80bbb5de",
   "metadata": {},
   "source": [
    "Непрерывная случайная величина X распределена нормально и задана плотностью распределения\n",
    "\n",
    "f(x) = (1 / (4 * sqrt(2*pi))) * (exp(-(x+2)**2) / 32).\n",
    "\n",
    "Найдите:\n",
    "а). M(X)\n",
    "б). D(X)\n",
    "в). std(X) (среднее квадратичное отклонение)\n"
   ]
  },
  {
   "cell_type": "code",
   "execution_count": 17,
   "id": "9f3c39c0",
   "metadata": {},
   "outputs": [],
   "source": [
    "import math\n",
    "from math import pi\n",
    "from math import exp"
   ]
  },
  {
   "cell_type": "code",
   "execution_count": 22,
   "id": "b69b4592",
   "metadata": {},
   "outputs": [],
   "source": [
    "v = np.linspace(-1,1, 100)"
   ]
  },
  {
   "cell_type": "code",
   "execution_count": 24,
   "id": "db2b3fe7",
   "metadata": {},
   "outputs": [],
   "source": [
    "X = [(1 / (4 * (2*pi)**0.5)) * (exp(-(v+2)**2) / 32) for v in np.linspace(-1,1, 100)]"
   ]
  },
  {
   "cell_type": "code",
   "execution_count": 26,
   "id": "3600a528",
   "metadata": {},
   "outputs": [
    {
     "data": {
      "image/png": "[encoded data removed]",
      "text/plain": [
       "<Figure size 1152x504 with 1 Axes>"
      ]
     },
     "metadata": {
      "needs_background": "light"
     },
     "output_type": "display_data"
    }
   ],
   "source": [
    "plt.figure(figsize=(16, 7))\n",
    "plt.plot(v, X , color='red')\n",
    "plt.show()"
   ]
  },
  {
   "cell_type": "code",
   "execution_count": 30,
   "id": "a0d95ae2",
   "metadata": {},
   "outputs": [
    {
     "data": {
      "text/plain": [
       "0.0002208116851778441"
      ]
     },
     "execution_count": 30,
     "metadata": {},
     "output_type": "execute_result"
    }
   ],
   "source": [
    "np.array(X).mean()"
   ]
  },
  {
   "cell_type": "code",
   "execution_count": 31,
   "id": "8fbb8dc3",
   "metadata": {},
   "outputs": [
    {
     "data": {
      "text/plain": [
       "9.500771077774592e-08"
      ]
     },
     "execution_count": 31,
     "metadata": {},
     "output_type": "execute_result"
    }
   ],
   "source": [
    "np.array(X).var()"
   ]
  },
  {
   "cell_type": "code",
   "execution_count": 32,
   "id": "b80fbf82",
   "metadata": {},
   "outputs": [
    {
     "data": {
      "text/plain": [
       "0.00030823320842788166"
      ]
     },
     "execution_count": 32,
     "metadata": {},
     "output_type": "execute_result"
    }
   ],
   "source": [
    "np.array(X).std()"
   ]
  },
  {
   "cell_type": "markdown",
   "id": "bd013b86",
   "metadata": {},
   "source": [
    "Рост взрослого населения города X имеет нормальное распределение.\n",
    "Причем, средний рост равен 174 см, а среднее квадратичное отклонение равно 8 см.\n",
    "Какова вероятность того, что случайным образом выбранный взрослый человек имеет рост:\n",
    "\n",
    "а). больше 182 см\n",
    "б). больше 190 см\n",
    "в). от 166 см до 190 см\n",
    "г). от 166 см до 182 см\n",
    "д). от 158 см до 190 см\n",
    "е). не выше 150 см или не ниже 190 см\n",
    "ё). не выше 150 см или не ниже 198 см\n",
    "ж). ниже 166 см.\n",
    "\n"
   ]
  },
  {
   "cell_type": "code",
   "execution_count": 41,
   "id": "7049d2da",
   "metadata": {},
   "outputs": [
    {
     "data": {
      "text/plain": [
       "0.1587"
      ]
     },
     "execution_count": 41,
     "metadata": {},
     "output_type": "execute_result"
    }
   ],
   "source": [
    "#a) 0.1587"
   ]
  },
  {
   "cell_type": "code",
   "execution_count": 42,
   "id": "40e55dc2",
   "metadata": {},
   "outputs": [
    {
     "data": {
      "text/plain": [
       "2.0"
      ]
     },
     "execution_count": 42,
     "metadata": {},
     "output_type": "execute_result"
    }
   ],
   "source": [
    "#б) (190-174)/8 \n",
    "# 2сигма\n",
    "0.0228"
   ]
  },
  {
   "cell_type": "code",
   "execution_count": 52,
   "id": "769d08ad",
   "metadata": {},
   "outputs": [
    {
     "data": {
      "text/plain": [
       "0.8185"
      ]
     },
     "execution_count": 52,
     "metadata": {},
     "output_type": "execute_result"
    }
   ],
   "source": [
    "#в) промежуток от от -1 сигма до 2сигма\n",
    "(1-0.0228)-0.1587"
   ]
  },
  {
   "cell_type": "code",
   "execution_count": 53,
   "id": "a3724ef7",
   "metadata": {},
   "outputs": [],
   "source": [
    "#г) промежуток от  -1 сигма до 1 сигма"
   ]
  },
  {
   "cell_type": "code",
   "execution_count": 54,
   "id": "3d1c0b7f",
   "metadata": {},
   "outputs": [
    {
     "data": {
      "text/plain": [
       "0.6826"
      ]
     },
     "execution_count": 54,
     "metadata": {},
     "output_type": "execute_result"
    }
   ],
   "source": [
    "(1-2*0.1587)"
   ]
  },
  {
   "cell_type": "code",
   "execution_count": null,
   "id": "409e828a",
   "metadata": {},
   "outputs": [],
   "source": [
    "#д) промежуток до -3 сигма от 2 сигма"
   ]
  },
  {
   "cell_type": "code",
   "execution_count": 57,
   "id": "ed7714b0",
   "metadata": {},
   "outputs": [
    {
     "data": {
      "text/plain": [
       "0.9544"
      ]
     },
     "execution_count": 57,
     "metadata": {},
     "output_type": "execute_result"
    }
   ],
   "source": [
    "(1-0.0228*2)"
   ]
  },
  {
   "cell_type": "code",
   "execution_count": null,
   "id": "ae69d23b",
   "metadata": {},
   "outputs": [],
   "source": [
    "#е) промежуток до -3 сигма и от 2 сигма"
   ]
  },
  {
   "cell_type": "code",
   "execution_count": 58,
   "id": "c791ccfd",
   "metadata": {},
   "outputs": [
    {
     "data": {
      "text/plain": [
       "0.0241"
      ]
     },
     "execution_count": 58,
     "metadata": {},
     "output_type": "execute_result"
    }
   ],
   "source": [
    "(0.0013+0.0228)"
   ]
  },
  {
   "cell_type": "code",
   "execution_count": null,
   "id": "3d60989d",
   "metadata": {},
   "outputs": [],
   "source": [
    "#ё). промежуток до -3 сигма и от 3 сигма\n",
    "0.0013*2"
   ]
  },
  {
   "cell_type": "code",
   "execution_count": null,
   "id": "126ed6c3",
   "metadata": {},
   "outputs": [],
   "source": [
    "#ж) промежуток выше -1сигма\n",
    "0.1587"
   ]
  },
  {
   "cell_type": "markdown",
   "id": "d26de966",
   "metadata": {},
   "source": [
    "На сколько сигм (средних квадратичных отклонений) отклоняется рост человека, равный 190 см, от\n",
    "математического ожидания роста в популяции, в которой M(X) = 178 см и D(X) = 25 кв.см?"
   ]
  },
  {
   "cell_type": "code",
   "execution_count": 59,
   "id": "40483d2a",
   "metadata": {},
   "outputs": [
    {
     "data": {
      "text/plain": [
       "2.4"
      ]
     },
     "execution_count": 59,
     "metadata": {},
     "output_type": "execute_result"
    }
   ],
   "source": [
    "(190-178)/(25**0.5)"
   ]
  }
 ],
 "metadata": {
  "kernelspec": {
   "display_name": "Python 3",
   "language": "python",
   "name": "python3"
  },
  "language_info": {
   "codemirror_mode": {
    "name": "ipython",
    "version": 3
   },
   "file_extension": ".py",
   "mimetype": "text/x-python",
   "name": "python",
   "nbconvert_exporter": "python",
   "pygments_lexer": "ipython3",
   "version": "3.8.5"
  }
 },
 "nbformat": 4,
 "nbformat_minor": 5
}
